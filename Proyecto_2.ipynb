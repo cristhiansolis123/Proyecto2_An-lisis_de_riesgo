{
  "cells": [
    {
      "cell_type": "markdown",
      "metadata": {
        "id": "CUi1L_yl7A65"
      },
      "source": [
        "# Análisis del riesgo de incumplimiento de los prestatarios\n",
        "\n",
        "Este proyecto consiste en preparar un informe para la división de préstamos de un banco. Se tiene que averiguar si el estado civil y el número de hijos de un cliente tienen un impacto en el incumplimiento de pago de un préstamo. El banco ya tiene algunos datos sobre la solvencia crediticia de los clientes.\n",
        "\n",
        "Este informe se tendrá en cuenta para crear una **puntuación de crédito** para un cliente potencial. La **puntuación de crédito** se utiliza para evaluar la capacidad de un prestatario potencial para pagar su préstamo."
      ]
    },
    {
      "cell_type": "markdown",
      "metadata": {
        "id": "VaOMBBrH7A66"
      },
      "source": [
        "**Propósito del proyecto**\n",
        "\n",
        "Evaluar si el estado civil y el número de hijos de un cliente tienen un impacto en el incumplimiento de pago de un préstamo."
      ]
    },
    {
      "cell_type": "markdown",
      "metadata": {
        "id": "1ydKdC5l7A66"
      },
      "source": [
        "**Hipótesis**\n",
        "\n",
        "1. Las personas que tienen una mayor cantidad de hijos tienen una tasa de incumplimiento en el pago del préstamo mas alta.\n",
        "2. El estado civil no afecta al pago a tiempo de sus préstamos.\n",
        "3. Las personas con ingresos mas altos, gastan mas y por ende no pagan a tiempo sus préstamos.\n",
        "4. Tener una casa y educarse son los propósitos que afectan al pago a tiempo de los préstamos."
      ]
    },
    {
      "cell_type": "code",
      "execution_count": null,
      "metadata": {
        "id": "f0PvU83V7A66",
        "outputId": "ac79c236-2ae6-49e1-c97e-0a05f758583f"
      },
      "outputs": [
        {
          "name": "stdout",
          "output_type": "stream",
          "text": [
            "    children  days_employed  dob_years            education  education_id  \\\n",
            "0          1   -8437.673028         42    bachelor's degree             0   \n",
            "1          1   -4024.803754         36  secondary education             1   \n",
            "2          0   -5623.422610         33  Secondary Education             1   \n",
            "3          3   -4124.747207         32  secondary education             1   \n",
            "4          0  340266.072047         53  secondary education             1   \n",
            "5          0    -926.185831         27    bachelor's degree             0   \n",
            "6          0   -2879.202052         43    bachelor's degree             0   \n",
            "7          0    -152.779569         50  SECONDARY EDUCATION             1   \n",
            "8          2   -6929.865299         35    BACHELOR'S DEGREE             0   \n",
            "9          0   -2188.756445         41  secondary education             1   \n",
            "10         2   -4171.483647         36    bachelor's degree             0   \n",
            "11         0    -792.701887         40  secondary education             1   \n",
            "12         0            NaN         65  secondary education             1   \n",
            "13         0   -1846.641941         54         some college             2   \n",
            "14         0   -1844.956182         56    bachelor's degree             0   \n",
            "\n",
            "        family_status  family_status_id gender income_type  debt  \\\n",
            "0             married                 0      F    employee     0   \n",
            "1             married                 0      F    employee     0   \n",
            "2             married                 0      M    employee     0   \n",
            "3             married                 0      M    employee     0   \n",
            "4   civil partnership                 1      F     retiree     0   \n",
            "5   civil partnership                 1      M    business     0   \n",
            "6             married                 0      F    business     0   \n",
            "7             married                 0      M    employee     0   \n",
            "8   civil partnership                 1      F    employee     0   \n",
            "9             married                 0      M    employee     0   \n",
            "10            married                 0      M    business     0   \n",
            "11            married                 0      F    employee     0   \n",
            "12  civil partnership                 1      M     retiree     0   \n",
            "13            married                 0      F    employee     0   \n",
            "14  civil partnership                 1      F    business     1   \n",
            "\n",
            "    total_income                              purpose  \n",
            "0      40620.102                purchase of the house  \n",
            "1      17932.802                         car purchase  \n",
            "2      23341.752                purchase of the house  \n",
            "3      42820.568              supplementary education  \n",
            "4      25378.572                    to have a wedding  \n",
            "5      40922.170                purchase of the house  \n",
            "6      38484.156                 housing transactions  \n",
            "7      21731.829                            education  \n",
            "8      15337.093                     having a wedding  \n",
            "9      23108.150  purchase of the house for my family  \n",
            "10     18230.959                      buy real estate  \n",
            "11     12331.077           buy commercial real estate  \n",
            "12           NaN                    to have a wedding  \n",
            "13     20873.317                         car purchase  \n",
            "14     26420.466          buy residential real estate  \n"
          ]
        }
      ],
      "source": [
        "# Cargar todas las librerías\n",
        "import pandas as pd\n",
        "credit = pd.read_csv('/datasets/credit_scoring_eng.csv')\n",
        "\n",
        "# Carga los datos\n",
        "print(credit.head(15))\n"
      ]
    },
    {
      "cell_type": "markdown",
      "metadata": {
        "id": "iRTUFxGY7A67"
      },
      "source": [
        "## Ejercicio 1. Exploración de datos\n",
        "\n",
        "**Descripción de los datos**\n",
        "- `children` - el número de hijos en la familia\n",
        "- `days_employed` - experiencia laboral en días\n",
        "- `dob_years` - la edad del cliente en años\n",
        "- `education` - la educación del cliente\n",
        "- `education_id` - identificador de educación\n",
        "- `family_status` - estado civil\n",
        "- `family_status_id` - identificador de estado civil\n",
        "- `gender` - género del cliente\n",
        "- `income_type` - tipo de empleo\n",
        "- `debt` - ¿había alguna deuda en el pago de un préstamo?\n",
        "- `total_income` - ingreso mensual\n",
        "- `purpose` - el propósito de obtener un préstamo\n"
      ]
    },
    {
      "cell_type": "code",
      "execution_count": null,
      "metadata": {
        "id": "eA9VRFFd7A67",
        "outputId": "53bbb203-c03f-4946-cce2-7234da1baa83"
      },
      "outputs": [
        {
          "name": "stdout",
          "output_type": "stream",
          "text": [
            "Número de filas: 21525\n",
            "Número de columnas: 12\n"
          ]
        }
      ],
      "source": [
        "# Vamos a ver cuántas filas y columnas tiene nuestro conjunto de datos\n",
        "rows = len(credit.axes[0])\n",
        "cols = len(credit.axes[1])\n",
        "\n",
        "print(f'Número de filas: ' + str(rows))\n",
        "print(f'Número de columnas: ' + str(cols))\n",
        "\n"
      ]
    },
    {
      "cell_type": "code",
      "execution_count": null,
      "metadata": {
        "scrolled": true,
        "id": "7_UjuM7c7A68",
        "outputId": "02795a47-6ca4-46e2-b182-58073767061e"
      },
      "outputs": [
        {
          "name": "stdout",
          "output_type": "stream",
          "text": [
            "   children  days_employed  dob_years            education  education_id  \\\n",
            "0         1   -8437.673028         42    bachelor's degree             0   \n",
            "1         1   -4024.803754         36  secondary education             1   \n",
            "2         0   -5623.422610         33  Secondary Education             1   \n",
            "3         3   -4124.747207         32  secondary education             1   \n",
            "4         0  340266.072047         53  secondary education             1   \n",
            "5         0    -926.185831         27    bachelor's degree             0   \n",
            "6         0   -2879.202052         43    bachelor's degree             0   \n",
            "7         0    -152.779569         50  SECONDARY EDUCATION             1   \n",
            "8         2   -6929.865299         35    BACHELOR'S DEGREE             0   \n",
            "9         0   -2188.756445         41  secondary education             1   \n",
            "\n",
            "       family_status  family_status_id gender income_type  debt  total_income  \\\n",
            "0            married                 0      F    employee     0     40620.102   \n",
            "1            married                 0      F    employee     0     17932.802   \n",
            "2            married                 0      M    employee     0     23341.752   \n",
            "3            married                 0      M    employee     0     42820.568   \n",
            "4  civil partnership                 1      F     retiree     0     25378.572   \n",
            "5  civil partnership                 1      M    business     0     40922.170   \n",
            "6            married                 0      F    business     0     38484.156   \n",
            "7            married                 0      M    employee     0     21731.829   \n",
            "8  civil partnership                 1      F    employee     0     15337.093   \n",
            "9            married                 0      M    employee     0     23108.150   \n",
            "\n",
            "                               purpose  \n",
            "0                purchase of the house  \n",
            "1                         car purchase  \n",
            "2                purchase of the house  \n",
            "3              supplementary education  \n",
            "4                    to have a wedding  \n",
            "5                purchase of the house  \n",
            "6                 housing transactions  \n",
            "7                            education  \n",
            "8                     having a wedding  \n",
            "9  purchase of the house for my family  \n"
          ]
        }
      ],
      "source": [
        "# vamos a mostrar las primeras filas N\n",
        "print(credit.head(10))\n"
      ]
    },
    {
      "cell_type": "markdown",
      "metadata": {
        "id": "2ID74d_Q7A68"
      },
      "source": [
        "La columna \"days_employed\" nos muestra números negativos, seguramente fueron errores de digitación o el cálculo de la fórmula estuvo mal, pusieron al revés los datos; adicionalmente, los valores son demasiado altos, en la fila \"4\" se calcula que el trabajador ha trabajado 945 años. Se necesita investigar esta columna y revisar si es necesario su cambio. En \"education\" se debe unificar los valores a uno solo \"bachelor´s degree\" y \"secondary education\". Igualmente en la columna \"purpose\" se debe revisar los datos y unficarlos."
      ]
    },
    {
      "cell_type": "code",
      "execution_count": null,
      "metadata": {
        "scrolled": false,
        "id": "IcxFenbj7A68",
        "outputId": "af878b55-c719-4f0f-815e-40a0db6d2216"
      },
      "outputs": [
        {
          "name": "stdout",
          "output_type": "stream",
          "text": [
            "<class 'pandas.core.frame.DataFrame'>\n",
            "RangeIndex: 21525 entries, 0 to 21524\n",
            "Data columns (total 12 columns):\n",
            " #   Column            Non-Null Count  Dtype  \n",
            "---  ------            --------------  -----  \n",
            " 0   children          21525 non-null  int64  \n",
            " 1   days_employed     19351 non-null  float64\n",
            " 2   dob_years         21525 non-null  int64  \n",
            " 3   education         21525 non-null  object \n",
            " 4   education_id      21525 non-null  int64  \n",
            " 5   family_status     21525 non-null  object \n",
            " 6   family_status_id  21525 non-null  int64  \n",
            " 7   gender            21525 non-null  object \n",
            " 8   income_type       21525 non-null  object \n",
            " 9   debt              21525 non-null  int64  \n",
            " 10  total_income      19351 non-null  float64\n",
            " 11  purpose           21525 non-null  object \n",
            "dtypes: float64(2), int64(5), object(5)\n",
            "memory usage: 2.0+ MB\n"
          ]
        }
      ],
      "source": [
        "# Obtener información sobre los datos\n",
        "credit.info()\n"
      ]
    },
    {
      "cell_type": "markdown",
      "metadata": {
        "id": "w9V9XZTv7A68"
      },
      "source": [
        "Las columnas \"days_employed\" y \"total income\" tienen valores ausentes."
      ]
    },
    {
      "cell_type": "code",
      "execution_count": null,
      "metadata": {
        "scrolled": true,
        "id": "pHqkiUGC7A69",
        "outputId": "ca753124-2e8b-4549-ea8a-45831d5dd1e5"
      },
      "outputs": [
        {
          "name": "stdout",
          "output_type": "stream",
          "text": [
            "       children  days_employed  dob_years            education  education_id  \\\n",
            "12            0            NaN         65  secondary education             1   \n",
            "26            0            NaN         41  secondary education             1   \n",
            "29            0            NaN         63  secondary education             1   \n",
            "41            0            NaN         50  secondary education             1   \n",
            "55            0            NaN         54  secondary education             1   \n",
            "...         ...            ...        ...                  ...           ...   \n",
            "21489         2            NaN         47  Secondary Education             1   \n",
            "21495         1            NaN         50  secondary education             1   \n",
            "21497         0            NaN         48    BACHELOR'S DEGREE             0   \n",
            "21502         1            NaN         42  secondary education             1   \n",
            "21510         2            NaN         28  secondary education             1   \n",
            "\n",
            "           family_status  family_status_id gender    income_type  debt  \\\n",
            "12     civil partnership                 1      M        retiree     0   \n",
            "26               married                 0      M  civil servant     0   \n",
            "29             unmarried                 4      F        retiree     0   \n",
            "41               married                 0      F  civil servant     0   \n",
            "55     civil partnership                 1      F        retiree     1   \n",
            "...                  ...               ...    ...            ...   ...   \n",
            "21489            married                 0      M       business     0   \n",
            "21495  civil partnership                 1      F       employee     0   \n",
            "21497            married                 0      F       business     0   \n",
            "21502            married                 0      F       employee     0   \n",
            "21510            married                 0      F       employee     0   \n",
            "\n",
            "       total_income                   purpose  \n",
            "12              NaN         to have a wedding  \n",
            "26              NaN                 education  \n",
            "29              NaN    building a real estate  \n",
            "41              NaN  second-hand car purchase  \n",
            "55              NaN         to have a wedding  \n",
            "...             ...                       ...  \n",
            "21489           NaN         purchase of a car  \n",
            "21495           NaN          wedding ceremony  \n",
            "21497           NaN       building a property  \n",
            "21502           NaN    building a real estate  \n",
            "21510           NaN              car purchase  \n",
            "\n",
            "[2174 rows x 12 columns]\n"
          ]
        }
      ],
      "source": [
        "# Veamos la tabla filtrada con valores ausentes de la primera columna donde faltan datos\n",
        "print(credit[credit['days_employed'].isna()])\n",
        "\n"
      ]
    },
    {
      "cell_type": "markdown",
      "metadata": {
        "id": "E6vtSBpK7A69"
      },
      "source": [
        "Los valores ausentes no guardan ninguna correlación con las otras columnas estamos seguros de esto porque al momento de revisar las columnas, cada uno tiene valores y propósitos diferentes."
      ]
    },
    {
      "cell_type": "code",
      "execution_count": null,
      "metadata": {
        "id": "SQAXD4rU7A69",
        "outputId": "0e6d57a0-ff42-4231-bdcc-0fce9c51e550"
      },
      "outputs": [
        {
          "name": "stdout",
          "output_type": "stream",
          "text": [
            "    children        days_employed  dob_years            education  \\\n",
            "0          1   -8437.673027760233         42    bachelor's degree   \n",
            "1          1   -4024.803753850451         36  secondary education   \n",
            "2          0   -5623.422610230956         33  Secondary Education   \n",
            "3          3   -4124.747206540018         32  secondary education   \n",
            "4          0   340266.07204682194         53  secondary education   \n",
            "5          0   -926.1858308789183         27    bachelor's degree   \n",
            "6          0   -2879.202052139952         43    bachelor's degree   \n",
            "7          0   -152.7795691752705         50  SECONDARY EDUCATION   \n",
            "8          2   -6929.865298973741         35    BACHELOR'S DEGREE   \n",
            "9          0  -2188.7564450779378         41  secondary education   \n",
            "10         2   -4171.483646903305         36    bachelor's degree   \n",
            "11         0   -792.7018870609315         40  secondary education   \n",
            "13         0  -1846.6419410560736         54         some college   \n",
            "14         0  -1844.9561821875545         56    bachelor's degree   \n",
            "15         1   -972.3644189900732         26  secondary education   \n",
            "16         0  -1719.9342261530542         35  secondary education   \n",
            "17         0   -2369.999720209008         33    bachelor's degree   \n",
            "18         0    400281.1369125588         53  secondary education   \n",
            "19         0  -10038.818548915877         48  SECONDARY EDUCATION   \n",
            "20         1  -1311.6041664289485         36  secondary education   \n",
            "\n",
            "    education_id      family_status  family_status_id gender income_type  \\\n",
            "0              0            married                 0      F    employee   \n",
            "1              1            married                 0      F    employee   \n",
            "2              1            married                 0      M    employee   \n",
            "3              1            married                 0      M    employee   \n",
            "4              1  civil partnership                 1      F     retiree   \n",
            "5              0  civil partnership                 1      M    business   \n",
            "6              0            married                 0      F    business   \n",
            "7              1            married                 0      M    employee   \n",
            "8              0  civil partnership                 1      F    employee   \n",
            "9              1            married                 0      M    employee   \n",
            "10             0            married                 0      M    business   \n",
            "11             1            married                 0      F    employee   \n",
            "13             2            married                 0      F    employee   \n",
            "14             0  civil partnership                 1      F    business   \n",
            "15             1            married                 0      F    employee   \n",
            "16             1            married                 0      F    employee   \n",
            "17             0  civil partnership                 1      M    employee   \n",
            "18             1    widow / widower                 2      F     retiree   \n",
            "19             1           divorced                 3      F    employee   \n",
            "20             1            married                 0      M    employee   \n",
            "\n",
            "    debt        total_income                              purpose  \n",
            "0      0           40620.102                purchase of the house  \n",
            "1      0           17932.802                         car purchase  \n",
            "2      0           23341.752                purchase of the house  \n",
            "3      0           42820.568              supplementary education  \n",
            "4      0           25378.572                    to have a wedding  \n",
            "5      0            40922.17                purchase of the house  \n",
            "6      0           38484.156                 housing transactions  \n",
            "7      0           21731.829                            education  \n",
            "8      0           15337.093                     having a wedding  \n",
            "9      0            23108.15  purchase of the house for my family  \n",
            "10     0           18230.959                      buy real estate  \n",
            "11     0           12331.077           buy commercial real estate  \n",
            "13     0           20873.317                         car purchase  \n",
            "14     1           26420.466          buy residential real estate  \n",
            "15     0           18691.345         construction of own property  \n",
            "16     0           46272.433                             property  \n",
            "17     0           14465.694                  building a property  \n",
            "18     0            9091.804             buying a second-hand car  \n",
            "19     0           38852.977                    buying my own car  \n",
            "20     0  33528.422999999995                             property  \n",
            "\n"
          ]
        },
        {
          "data": {
            "text/plain": [
              "False    19351\n",
              "Name: days_employed, dtype: int64"
            ]
          },
          "execution_count": 6,
          "metadata": {},
          "output_type": "execute_result"
        }
      ],
      "source": [
        "# Apliquemos múltiples condiciones para filtrar datos y veamos el número de filas en la tabla filtrada.\n",
        "credit_1 = pd.read_csv('/datasets/credit_scoring_eng.csv', keep_default_na=False)\n",
        "credit_1 = credit_1[credit_1['days_employed'] != '']\n",
        "print(credit_1.head(20))\n",
        "print()\n",
        "credit_1['days_employed'].isna().value_counts()\n"
      ]
    },
    {
      "cell_type": "code",
      "execution_count": null,
      "metadata": {
        "id": "cNccLIsI7A69",
        "outputId": "9a3d8b90-f789-4929-aabc-cc4075715a8c"
      },
      "outputs": [
        {
          "data": {
            "text/plain": [
              "False    19351\n",
              "Name: total_income, dtype: int64"
            ]
          },
          "execution_count": 7,
          "metadata": {},
          "output_type": "execute_result"
        }
      ],
      "source": [
        "credit_1['total_income'].isnull().value_counts()"
      ]
    },
    {
      "cell_type": "markdown",
      "metadata": {
        "id": "IHQsCQ2H7A69"
      },
      "source": [
        "**Conclusión intermedia**\n",
        "\n",
        "El número de filas de la tabla filtrada con valores ausentes es 2174. Los valores ausentes de \"days_employed\" son los mismos que \"total_income\".\n",
        "\n",
        "El porcentaje de valores ausentes es del 10%. No es una porción significativa. Las filas cuyos valores son nulos, no se eliminarán, se sustituirán por la cadena vacía ' '."
      ]
    },
    {
      "cell_type": "code",
      "execution_count": null,
      "metadata": {
        "id": "cjcU8Eje7A69",
        "outputId": "b39ae169-1a26-4a73-fb20-731679297c16"
      },
      "outputs": [
        {
          "name": "stdout",
          "output_type": "stream",
          "text": [
            "       children  days_employed  dob_years            education  education_id  \\\n",
            "12            0            NaN         65  secondary education             1   \n",
            "26            0            NaN         41  secondary education             1   \n",
            "29            0            NaN         63  secondary education             1   \n",
            "41            0            NaN         50  secondary education             1   \n",
            "55            0            NaN         54  secondary education             1   \n",
            "...         ...            ...        ...                  ...           ...   \n",
            "21489         2            NaN         47  Secondary Education             1   \n",
            "21495         1            NaN         50  secondary education             1   \n",
            "21497         0            NaN         48    BACHELOR'S DEGREE             0   \n",
            "21502         1            NaN         42  secondary education             1   \n",
            "21510         2            NaN         28  secondary education             1   \n",
            "\n",
            "           family_status  family_status_id gender    income_type  debt  \\\n",
            "12     civil partnership                 1      M        retiree     0   \n",
            "26               married                 0      M  civil servant     0   \n",
            "29             unmarried                 4      F        retiree     0   \n",
            "41               married                 0      F  civil servant     0   \n",
            "55     civil partnership                 1      F        retiree     1   \n",
            "...                  ...               ...    ...            ...   ...   \n",
            "21489            married                 0      M       business     0   \n",
            "21495  civil partnership                 1      F       employee     0   \n",
            "21497            married                 0      F       business     0   \n",
            "21502            married                 0      F       employee     0   \n",
            "21510            married                 0      F       employee     0   \n",
            "\n",
            "       total_income                   purpose  \n",
            "12              NaN         to have a wedding  \n",
            "26              NaN                 education  \n",
            "29              NaN    building a real estate  \n",
            "41              NaN  second-hand car purchase  \n",
            "55              NaN         to have a wedding  \n",
            "...             ...                       ...  \n",
            "21489           NaN         purchase of a car  \n",
            "21495           NaN          wedding ceremony  \n",
            "21497           NaN       building a property  \n",
            "21502           NaN    building a real estate  \n",
            "21510           NaN              car purchase  \n",
            "\n",
            "[2174 rows x 12 columns]\n"
          ]
        }
      ],
      "source": [
        "# Vamos a investigar a los clientes que no tienen datos sobre la característica identificada y la columna con los valores ausentes\n",
        "credit_nan = credit[credit['days_employed'].isnull()]\n",
        "print(credit_nan)\n"
      ]
    },
    {
      "cell_type": "code",
      "execution_count": null,
      "metadata": {
        "id": "fXrcfwhD7A6-",
        "outputId": "7812eec8-f9c2-43c0-8d91-a535cb56546f"
      },
      "outputs": [
        {
          "name": "stdout",
          "output_type": "stream",
          "text": [
            "          children  days_employed    dob_years  education_id  \\\n",
            "count  2174.000000            0.0  2174.000000   2174.000000   \n",
            "mean      0.552438            NaN    43.632015      0.800828   \n",
            "std       1.469356            NaN    12.531481      0.530157   \n",
            "min      -1.000000            NaN     0.000000      0.000000   \n",
            "25%       0.000000            NaN    34.000000      0.250000   \n",
            "50%       0.000000            NaN    43.000000      1.000000   \n",
            "75%       1.000000            NaN    54.000000      1.000000   \n",
            "max      20.000000            NaN    73.000000      3.000000   \n",
            "\n",
            "       family_status_id         debt  total_income  \n",
            "count       2174.000000  2174.000000           0.0  \n",
            "mean           0.975161     0.078197           NaN  \n",
            "std            1.418220     0.268543           NaN  \n",
            "min            0.000000     0.000000           NaN  \n",
            "25%            0.000000     0.000000           NaN  \n",
            "50%            0.000000     0.000000           NaN  \n",
            "75%            1.000000     0.000000           NaN  \n",
            "max            4.000000     1.000000           NaN  \n"
          ]
        }
      ],
      "source": [
        "# Comprobación de la distribución\n",
        "print(credit_nan.describe())\n"
      ]
    },
    {
      "cell_type": "markdown",
      "metadata": {
        "id": "phPmg3zI7A6-"
      },
      "source": [
        "**Posibles razones por las que hay valores ausentes en los datos**\n",
        "\n",
        "Los valores ausentes pueden deberse a una mala digitación por parte de la persona que estaba llenando los datos. También puede deberse a que el cálculo de estos valores se estaba realizando de una fórmula incorrecta. Los datos ausentes son al azar.\n"
      ]
    },
    {
      "cell_type": "code",
      "execution_count": null,
      "metadata": {
        "id": "ODVgbj5A7A6-",
        "outputId": "ad961a7e-2d79-4e7f-9282-5baf265c8058"
      },
      "outputs": [
        {
          "name": "stdout",
          "output_type": "stream",
          "text": [
            "           children  days_employed     dob_years  education_id  \\\n",
            "count  21525.000000   19351.000000  21525.000000  21525.000000   \n",
            "mean       0.538908   63046.497661     43.293380      0.817236   \n",
            "std        1.381587  140827.311974     12.574584      0.548138   \n",
            "min       -1.000000  -18388.949901      0.000000      0.000000   \n",
            "25%        0.000000   -2747.423625     33.000000      1.000000   \n",
            "50%        0.000000   -1203.369529     42.000000      1.000000   \n",
            "75%        1.000000    -291.095954     53.000000      1.000000   \n",
            "max       20.000000  401755.400475     75.000000      4.000000   \n",
            "\n",
            "       family_status_id          debt   total_income  \n",
            "count      21525.000000  21525.000000   19351.000000  \n",
            "mean           0.972544      0.080883   26787.568355  \n",
            "std            1.420324      0.272661   16475.450632  \n",
            "min            0.000000      0.000000    3306.762000  \n",
            "25%            0.000000      0.000000   16488.504500  \n",
            "50%            0.000000      0.000000   23202.870000  \n",
            "75%            1.000000      0.000000   32549.611000  \n",
            "max            4.000000      1.000000  362496.645000  \n"
          ]
        }
      ],
      "source": [
        "# Comprobando la distribución en el conjunto de datos entero\n",
        "print(credit.describe())\n"
      ]
    },
    {
      "cell_type": "markdown",
      "metadata": {
        "id": "VwguaVdu7A6-"
      },
      "source": [
        "**Conclusión intermedia**\n",
        "\n",
        "La distribución en el conjunto de datos original es similar al de la tabla filtrada. Por lo tanto, los valores ausentes en las 2 columnas son aleatorios."
      ]
    },
    {
      "cell_type": "code",
      "execution_count": null,
      "metadata": {
        "scrolled": true,
        "id": "Mupd70-e7A6-",
        "outputId": "daee4b16-bc3b-4804-d1e7-db764a49a4d1"
      },
      "outputs": [
        {
          "name": "stdout",
          "output_type": "stream",
          "text": [
            "           children  days_employed     dob_years  education_id  \\\n",
            "count  19351.000000   19351.000000  19351.000000  19351.000000   \n",
            "mean       0.537388   63046.497661     43.255336      0.819079   \n",
            "std        1.371408  140827.311974     12.579170      0.550104   \n",
            "min       -1.000000  -18388.949901      0.000000      0.000000   \n",
            "25%        0.000000   -2747.423625     33.000000      1.000000   \n",
            "50%        0.000000   -1203.369529     42.000000      1.000000   \n",
            "75%        1.000000    -291.095954     53.000000      1.000000   \n",
            "max       20.000000  401755.400475     75.000000      4.000000   \n",
            "\n",
            "       family_status_id          debt   total_income  \n",
            "count      19351.000000  19351.000000   19351.000000  \n",
            "mean           0.972249      0.081184   26787.568355  \n",
            "std            1.420596      0.273125   16475.450632  \n",
            "min            0.000000      0.000000    3306.762000  \n",
            "25%            0.000000      0.000000   16488.504500  \n",
            "50%            0.000000      0.000000   23202.870000  \n",
            "75%            1.000000      0.000000   32549.611000  \n",
            "max            4.000000      1.000000  362496.645000  \n"
          ]
        }
      ],
      "source": [
        "# Comprobación al eliminar filas con datos ausentes\n",
        "credit2=credit.dropna()\n",
        "print(credit2.describe())"
      ]
    },
    {
      "cell_type": "markdown",
      "metadata": {
        "id": "byVIG6Sh7A6-"
      },
      "source": [
        "**Conclusiones**\n",
        "\n",
        "No se encontraron patrones entre la tabla filtrada y el conjunto de datos original.\n",
        "\n",
        "Las filas con valores ausentes se se sustituirán por la cadena vacía ' ', porque son el 10% del total de datos, es un porcentaje muy bajo. Al comparar la distribución se llegó a la conclusión de que no afectan al conjunto de datos global. Además, al eliminar las filas con datos ausentes se verificó que la distribución es similar a la distribución del conjunto de datos original, entonces no me afecta si cambio los valores ausentes por una cadena vacia. Se reporta que la columna \"days_employed\" cuenta con valores negaticos y valores muy altos, por ejemplo hay personas que según los datos llevan trabajando mas de 1000 años, lo cual es ilógico. Se continuará trabajando con estos valores, haciendo los arreglos necesarios para esta columna.\n",
        "\n",
        "Los pasos siguientes será revisar como se encuentra la información del conjunto de dato y se corregirán los valores como: duplicados, ortografía, mayúsculas o minúsculas, etc. Para continuar con el análisis de datos."
      ]
    },
    {
      "cell_type": "markdown",
      "metadata": {
        "id": "ZHAN7Cy37A6-"
      },
      "source": [
        "## Transformación de datos\n"
      ]
    },
    {
      "cell_type": "code",
      "execution_count": null,
      "metadata": {
        "scrolled": true,
        "id": "LgD-oB-W7A6-",
        "outputId": "4fcf42d6-4324-49f9-a410-9602a5cc9d53"
      },
      "outputs": [
        {
          "name": "stdout",
          "output_type": "stream",
          "text": [
            "[\"bachelor's degree\" 'secondary education' 'Secondary Education'\n",
            " 'SECONDARY EDUCATION' \"BACHELOR'S DEGREE\" 'some college'\n",
            " 'primary education' \"Bachelor's Degree\" 'SOME COLLEGE' 'Some College'\n",
            " 'PRIMARY EDUCATION' 'Primary Education' 'Graduate Degree'\n",
            " 'GRADUATE DEGREE' 'graduate degree']\n"
          ]
        }
      ],
      "source": [
        "# Veamos todos los valores en la columna de educación para verificar si será necesario corregir la ortografía y qué habrá que corregir exactamente\n",
        "print(credit['education'].unique())"
      ]
    },
    {
      "cell_type": "code",
      "execution_count": null,
      "metadata": {
        "scrolled": true,
        "id": "_RjaoGvb7A6-"
      },
      "outputs": [],
      "source": [
        "# Arregla los registros si es necesario\n",
        "credit['education'] = credit['education'].str.lower()\n"
      ]
    },
    {
      "cell_type": "code",
      "execution_count": null,
      "metadata": {
        "id": "aae19pKa7A6-",
        "outputId": "4a655c53-c70b-4b0b-99dd-64400187874b"
      },
      "outputs": [
        {
          "name": "stdout",
          "output_type": "stream",
          "text": [
            "[\"bachelor's degree\" 'secondary education' 'some college'\n",
            " 'primary education' 'graduate degree']\n"
          ]
        }
      ],
      "source": [
        "# Comprobar todos los valores en la columna para asegurarnos de que los hayamos corregido\n",
        "print(credit['education'].unique())\n"
      ]
    },
    {
      "cell_type": "code",
      "execution_count": null,
      "metadata": {
        "id": "sh16LZHt7A6-",
        "outputId": "95438a4a-a20e-4097-eebd-65e440cc1092"
      },
      "outputs": [
        {
          "name": "stdout",
          "output_type": "stream",
          "text": [
            "count    21525.000000\n",
            "mean         0.538908\n",
            "std          1.381587\n",
            "min         -1.000000\n",
            "25%          0.000000\n",
            "50%          0.000000\n",
            "75%          1.000000\n",
            "max         20.000000\n",
            "Name: children, dtype: float64\n",
            "\n",
            "children            47\n",
            "days_employed       44\n",
            "dob_years           47\n",
            "education           47\n",
            "education_id        47\n",
            "family_status       47\n",
            "family_status_id    47\n",
            "gender              47\n",
            "income_type         47\n",
            "debt                47\n",
            "total_income        44\n",
            "purpose             47\n",
            "dtype: int64\n"
          ]
        }
      ],
      "source": [
        "# Veamos la distribución de los valores en la columna `children`\n",
        "print(credit['children'].describe())\n",
        "print()\n",
        "print(credit[(credit['children'] == -1)].count())\n"
      ]
    },
    {
      "cell_type": "code",
      "execution_count": null,
      "metadata": {
        "id": "hHR8iSkQ7A6_",
        "outputId": "cf53b7e3-035c-4493-f50e-390875333c6d"
      },
      "outputs": [
        {
          "name": "stdout",
          "output_type": "stream",
          "text": [
            "children            76\n",
            "days_employed       67\n",
            "dob_years           76\n",
            "education           76\n",
            "education_id        76\n",
            "family_status       76\n",
            "family_status_id    76\n",
            "gender              76\n",
            "income_type         76\n",
            "debt                76\n",
            "total_income        67\n",
            "purpose             76\n",
            "dtype: int64\n"
          ]
        }
      ],
      "source": [
        "print(credit[(credit['children'] == 20)].count())"
      ]
    },
    {
      "cell_type": "code",
      "execution_count": null,
      "metadata": {
        "id": "xA6S2g_17A6_",
        "outputId": "41ac4d0d-d39a-4e54-ff6e-f49f9a98c1ce"
      },
      "outputs": [
        {
          "name": "stdout",
          "output_type": "stream",
          "text": [
            "0.0\n"
          ]
        }
      ],
      "source": [
        "med_child = credit['children'].median()\n",
        "print (med_child)"
      ]
    },
    {
      "cell_type": "markdown",
      "metadata": {
        "id": "pe5VgPmt7A6_"
      },
      "source": [
        "El valor mínimo de la columna niños es \"-1\", esto nos puede representar un problema al momento de realizar otras funciones. El número total de filas con este problema es de \"47\", que representa el 0.2%. Este valor negativo puede deberse a que las familias tuvieron hijos fallecidos o errores de digitación. De igual forma se tiene 76 personas con una cantidad de 20 hijos (0.35%), lo cual pueda que no sea algo alejado de la realidad, pero los cambiaremos para mejorar nuestros datos. Al tener esta suposición se cambiará el valor \"-1\" y \"20\" por \"0\", esto lo hacemos porque la mediana nos da un valor de \"0\". Se eligió la mediana porque se tienn valores atípicos como el \"-1\" y el \"20\"."
      ]
    },
    {
      "cell_type": "code",
      "execution_count": null,
      "metadata": {
        "id": "lbZyik0W7A6_"
      },
      "outputs": [],
      "source": [
        "credit['children'] = credit['children'].replace(-1,0) & credit['children'].replace(20,0)\n"
      ]
    },
    {
      "cell_type": "code",
      "execution_count": null,
      "metadata": {
        "id": "bGMSyveL7A6_",
        "outputId": "37090c59-daab-4448-bc7b-685525c9531e"
      },
      "outputs": [
        {
          "name": "stdout",
          "output_type": "stream",
          "text": [
            "count    21525.000000\n",
            "mean         0.470476\n",
            "std          0.750534\n",
            "min          0.000000\n",
            "25%          0.000000\n",
            "50%          0.000000\n",
            "75%          1.000000\n",
            "max          5.000000\n",
            "Name: children, dtype: float64\n"
          ]
        }
      ],
      "source": [
        "# Comprobar la columna `children` de nuevo para asegurarnos de que todo está arreglado\n",
        "print(credit['children'].describe())\n"
      ]
    },
    {
      "cell_type": "code",
      "execution_count": null,
      "metadata": {
        "id": "4EIoLF-Q7A6_",
        "outputId": "79508b45-b522-4e4e-8420-4a8711279fc8"
      },
      "outputs": [
        {
          "name": "stdout",
          "output_type": "stream",
          "text": [
            "2174\n",
            "El porcentaje de datos faltantes en days_employed es: 10.099883855981417%\n"
          ]
        }
      ],
      "source": [
        "# Encuentra datos problemáticos en `days_employed`, si existen, y calcula el porcentaje\n",
        "print(credit['days_employed'].isnull().sum())\n",
        "\n",
        "errors_days = (2174/21525)*100\n",
        "print(f'El porcentaje de datos faltantes en days_employed es: ' + str(errors_days) + '%')\n"
      ]
    },
    {
      "cell_type": "markdown",
      "metadata": {
        "id": "LYPSXAT57A6_"
      },
      "source": [
        "A pesar de que es un porcentaje bajo de valores nulos, no se los eliminará, se los cambiará por una cadena vacia y los valores negativos se cambiarán a positivos. Adicional a esto, se encuentran valores cuyas cantidades son ilógicas, para ello, se cambiarán los valores por el tercer cuartil, porque es el 75% de todos los valores. Y el límite máximo de días es 14600 días, porque aquí en el Ecuador es el número de dias en el que la mayor cantidad de personas ha trabajado y se jubila."
      ]
    },
    {
      "cell_type": "code",
      "execution_count": null,
      "metadata": {
        "id": "koMH8f2X7A7C"
      },
      "outputs": [],
      "source": [
        "# Aborda los valores problemáticos, si existen.\n",
        "credit['days_employed'] = credit['days_employed'].abs()"
      ]
    },
    {
      "cell_type": "code",
      "execution_count": null,
      "metadata": {
        "id": "Qdyz1Ii37A7C",
        "outputId": "901056c6-ade0-4edf-a744-c4fcea882363"
      },
      "outputs": [
        {
          "name": "stdout",
          "output_type": "stream",
          "text": [
            "count     19351.000000\n",
            "mean      66914.728907\n",
            "std      139030.880527\n",
            "min          24.141633\n",
            "25%         927.009265\n",
            "50%        2194.220567\n",
            "75%        5537.882441\n",
            "max      401755.400475\n",
            "Name: days_employed, dtype: float64\n"
          ]
        }
      ],
      "source": [
        "print(credit['days_employed'].describe())"
      ]
    },
    {
      "cell_type": "code",
      "execution_count": null,
      "metadata": {
        "id": "WdbJX2Ln7A7C",
        "outputId": "064049bb-70b9-4e80-bec9-c39d6d331350"
      },
      "outputs": [
        {
          "name": "stdout",
          "output_type": "stream",
          "text": [
            "5537.882441480826\n"
          ]
        }
      ],
      "source": [
        "print(credit['days_employed'].quantile(.75))"
      ]
    },
    {
      "cell_type": "code",
      "execution_count": null,
      "metadata": {
        "id": "YKM_fPvy7A7C"
      },
      "outputs": [],
      "source": [
        "credit.loc[credit['days_employed'] > 14600, 'days_employed'] = 5537.88\n"
      ]
    },
    {
      "cell_type": "code",
      "execution_count": null,
      "metadata": {
        "id": "3KV_22dn7A7D",
        "outputId": "2e106630-f1a8-4fbf-da3c-790d3ce678e4"
      },
      "outputs": [
        {
          "name": "stdout",
          "output_type": "stream",
          "text": [
            "count    19351.000000\n",
            "mean      2911.026268\n",
            "std       2389.317980\n",
            "min         24.141633\n",
            "25%        927.009265\n",
            "50%       2194.220567\n",
            "75%       5537.340576\n",
            "max      14583.152504\n",
            "Name: days_employed, dtype: float64\n"
          ]
        }
      ],
      "source": [
        "print(credit['days_employed'].describe())"
      ]
    },
    {
      "cell_type": "code",
      "execution_count": null,
      "metadata": {
        "id": "8mWDxmqw7A7D"
      },
      "outputs": [],
      "source": [
        "credit['days_employed'] = credit['days_employed'].fillna('')"
      ]
    },
    {
      "cell_type": "code",
      "execution_count": null,
      "metadata": {
        "id": "XfFjglwe7A7D",
        "outputId": "e54468b7-4e93-42e6-f27c-a94d8c26c005"
      },
      "outputs": [
        {
          "name": "stdout",
          "output_type": "stream",
          "text": [
            "0        8437.673028\n",
            "1        4024.803754\n",
            "2         5623.42261\n",
            "3        4124.747207\n",
            "4            5537.88\n",
            "            ...     \n",
            "21520    4529.316663\n",
            "21521        5537.88\n",
            "21522    2113.346888\n",
            "21523    3112.481705\n",
            "21524    1984.507589\n",
            "Name: days_employed, Length: 21525, dtype: object\n"
          ]
        }
      ],
      "source": [
        "# Comprueba el resultado - asegúrate de que esté arreglado\n",
        "print(credit['days_employed'])"
      ]
    },
    {
      "cell_type": "code",
      "execution_count": null,
      "metadata": {
        "id": "49KJUCMF7A7D",
        "outputId": "83ef82a8-ef2b-42e1-9f17-0f97a6682935"
      },
      "outputs": [
        {
          "name": "stdout",
          "output_type": "stream",
          "text": [
            "0\n"
          ]
        }
      ],
      "source": [
        "print(credit['days_employed'].isnull().sum())\n"
      ]
    },
    {
      "cell_type": "code",
      "execution_count": null,
      "metadata": {
        "scrolled": true,
        "id": "8TVtzzG07A7D",
        "outputId": "8dd596a2-2e23-41a3-e0e8-1c62f669da9e"
      },
      "outputs": [
        {
          "name": "stdout",
          "output_type": "stream",
          "text": [
            "[42 36 33 32 53 27 43 50 35 41 40 65 54 56 26 48 24 21 57 67 28 63 62 47\n",
            " 34 68 25 31 30 20 49 37 45 61 64 44 52 46 23 38 39 51  0 59 29 60 55 58\n",
            " 71 22 73 66 69 19 72 70 74 75]\n"
          ]
        }
      ],
      "source": [
        "# Revisa `dob_years` en busca de valores sospechosos y cuenta el porcentaje\n",
        "print(credit['dob_years'].unique())\n"
      ]
    },
    {
      "cell_type": "code",
      "execution_count": null,
      "metadata": {
        "id": "UTFEcsXd7A7D",
        "outputId": "5fc9e3a6-3f5c-40bd-dc90-50b8f83e61bc"
      },
      "outputs": [
        {
          "name": "stdout",
          "output_type": "stream",
          "text": [
            "children            101\n",
            "days_employed       101\n",
            "dob_years           101\n",
            "education           101\n",
            "education_id        101\n",
            "family_status       101\n",
            "family_status_id    101\n",
            "gender              101\n",
            "income_type         101\n",
            "debt                101\n",
            "total_income         91\n",
            "purpose             101\n",
            "dtype: int64\n"
          ]
        }
      ],
      "source": [
        "print(credit[credit['dob_years'] == 0].count())"
      ]
    },
    {
      "cell_type": "markdown",
      "metadata": {
        "id": "BT-wRPaW7A7D"
      },
      "source": [
        "En la columna \"dob_years\" existen 101 personas con edad de \"0\" (0.46%), son datos que seguramente fueron mal digitados. Debido a que no se tiene registro alguno de estos valores para poder arreglarlos, se recurre a calcular la mediana para cambiar los datos."
      ]
    },
    {
      "cell_type": "code",
      "execution_count": null,
      "metadata": {
        "id": "xcef6JCT7A7D",
        "outputId": "9fd0f84a-1f57-4458-b80b-bfae6a5bb6d6"
      },
      "outputs": [
        {
          "name": "stdout",
          "output_type": "stream",
          "text": [
            "42.0\n"
          ]
        }
      ],
      "source": [
        "# Resuelve los problemas en la columna `dob_years`, si existen\n",
        "print (credit['dob_years'].median())"
      ]
    },
    {
      "cell_type": "code",
      "execution_count": null,
      "metadata": {
        "id": "uNkrRz_K7A7D"
      },
      "outputs": [],
      "source": [
        "credit['dob_years'] = credit['dob_years'].replace(0,42)\n"
      ]
    },
    {
      "cell_type": "code",
      "execution_count": null,
      "metadata": {
        "id": "Ad_0PbDX7A7D",
        "outputId": "1ecd678b-bb58-491f-ac6d-9370241ce6a6"
      },
      "outputs": [
        {
          "name": "stdout",
          "output_type": "stream",
          "text": [
            "[42 36 33 32 53 27 43 50 35 41 40 65 54 56 26 48 24 21 57 67 28 63 62 47\n",
            " 34 68 25 31 30 20 49 37 45 61 64 44 52 46 23 38 39 51 59 29 60 55 58 71\n",
            " 22 73 66 69 19 72 70 74 75]\n"
          ]
        }
      ],
      "source": [
        "# Comprueba el resultado - asegúrate de que esté arreglado\n",
        "print(credit['dob_years'].unique())"
      ]
    },
    {
      "cell_type": "code",
      "execution_count": null,
      "metadata": {
        "id": "yfHnANhW7A7D",
        "outputId": "292e16fb-75c3-4415-f770-01bcd36b0594"
      },
      "outputs": [
        {
          "name": "stdout",
          "output_type": "stream",
          "text": [
            "['married' 'civil partnership' 'widow / widower' 'divorced' 'unmarried']\n"
          ]
        }
      ],
      "source": [
        "# Veamos los valores de la columna\n",
        "print(credit['family_status'].unique())\n"
      ]
    },
    {
      "cell_type": "code",
      "execution_count": null,
      "metadata": {
        "id": "DWnzwj7O7A7D"
      },
      "outputs": [],
      "source": [
        "# Aborda los valores problemáticos en `family_status`, si existen\n"
      ]
    },
    {
      "cell_type": "markdown",
      "metadata": {
        "id": "AmQUnkZS7A7D"
      },
      "source": [
        "En la columna \"family_status\", no existen problemas."
      ]
    },
    {
      "cell_type": "code",
      "execution_count": null,
      "metadata": {
        "id": "_i9j0agR7A7D",
        "outputId": "a0127f81-740d-40d3-a0f2-adde5f4c2771"
      },
      "outputs": [
        {
          "name": "stdout",
          "output_type": "stream",
          "text": [
            "['F' 'M' 'XNA']\n"
          ]
        }
      ],
      "source": [
        "# Veamos los valores en la columna\n",
        "print(credit['gender'].unique())"
      ]
    },
    {
      "cell_type": "code",
      "execution_count": null,
      "metadata": {
        "id": "vGxbNkVH7A7E",
        "outputId": "52e440f4-1c3e-4faa-f0d7-dfcba1352163"
      },
      "outputs": [
        {
          "name": "stdout",
          "output_type": "stream",
          "text": [
            "       children days_employed  dob_years     education  education_id  \\\n",
            "10701         0   2358.600502         24  some college             2   \n",
            "\n",
            "           family_status  family_status_id gender income_type  debt  \\\n",
            "10701  civil partnership                 1    XNA    business     0   \n",
            "\n",
            "       total_income          purpose  \n",
            "10701     32624.825  buy real estate  \n"
          ]
        }
      ],
      "source": [
        "print(credit[credit['gender'] == 'XNA'])"
      ]
    },
    {
      "cell_type": "code",
      "execution_count": null,
      "metadata": {
        "id": "MSFm921i7A7E"
      },
      "outputs": [],
      "source": [
        "# Aborda los valores problemáticos, si existen"
      ]
    },
    {
      "cell_type": "markdown",
      "metadata": {
        "id": "WNsbah0F7A7E"
      },
      "source": [
        "La columna \"gender\" tiene 1 persona con género \"XNA\", no se tienen registros del significado de este género. Podemos asumir que se trata de una persona LGBTIQ+, por tal motivo no se realizará ninguna acción."
      ]
    },
    {
      "cell_type": "code",
      "execution_count": null,
      "metadata": {
        "id": "wzUl_TsA7A7E",
        "outputId": "0b343967-051a-4c20-b804-6a6c4c466075"
      },
      "outputs": [
        {
          "name": "stdout",
          "output_type": "stream",
          "text": [
            "['employee' 'retiree' 'business' 'civil servant' 'unemployed'\n",
            " 'entrepreneur' 'student' 'paternity / maternity leave']\n"
          ]
        }
      ],
      "source": [
        "# Veamos los valores en la columna\n",
        "print(credit['income_type'].unique())"
      ]
    },
    {
      "cell_type": "code",
      "execution_count": null,
      "metadata": {
        "id": "h6GWGXWY7A7E"
      },
      "outputs": [],
      "source": [
        "# Aborda los valores problemáticos, si existen"
      ]
    },
    {
      "cell_type": "markdown",
      "metadata": {
        "id": "vyfNVSbE7A7E"
      },
      "source": [
        "En la columna \"income_type\", no existen problemas."
      ]
    },
    {
      "cell_type": "code",
      "execution_count": null,
      "metadata": {
        "id": "Oogbx1JI7A7E",
        "outputId": "4bf5f745-af4e-4d6d-d879-a4146a7b22c1"
      },
      "outputs": [
        {
          "name": "stdout",
          "output_type": "stream",
          "text": [
            "72\n"
          ]
        }
      ],
      "source": [
        "# Comprobar los duplicados\n",
        "print(credit.duplicated().sum())"
      ]
    },
    {
      "cell_type": "code",
      "execution_count": null,
      "metadata": {
        "id": "XbJLkURH7A7E"
      },
      "outputs": [],
      "source": [
        "# Aborda los duplicados, si existen\n",
        "credit=credit.drop_duplicates().reset_index(drop=True)"
      ]
    },
    {
      "cell_type": "code",
      "execution_count": null,
      "metadata": {
        "id": "oA5UvgWr7A7E",
        "outputId": "dfd95900-5d7f-4aee-f667-6f0e3381cafe"
      },
      "outputs": [
        {
          "name": "stdout",
          "output_type": "stream",
          "text": [
            "0\n"
          ]
        }
      ],
      "source": [
        "# Última comprobación para ver si tenemos duplicados\n",
        "print(credit.duplicated().sum())"
      ]
    },
    {
      "cell_type": "code",
      "execution_count": null,
      "metadata": {
        "id": "TwlHXuMl7A7E",
        "outputId": "937b061f-3f78-4593-fc2f-6a94bd65881a"
      },
      "outputs": [
        {
          "name": "stdout",
          "output_type": "stream",
          "text": [
            "<class 'pandas.core.frame.DataFrame'>\n",
            "RangeIndex: 21453 entries, 0 to 21452\n",
            "Data columns (total 12 columns):\n",
            " #   Column            Non-Null Count  Dtype  \n",
            "---  ------            --------------  -----  \n",
            " 0   children          21453 non-null  int64  \n",
            " 1   days_employed     21453 non-null  object \n",
            " 2   dob_years         21453 non-null  int64  \n",
            " 3   education         21453 non-null  object \n",
            " 4   education_id      21453 non-null  int64  \n",
            " 5   family_status     21453 non-null  object \n",
            " 6   family_status_id  21453 non-null  int64  \n",
            " 7   gender            21453 non-null  object \n",
            " 8   income_type       21453 non-null  object \n",
            " 9   debt              21453 non-null  int64  \n",
            " 10  total_income      19351 non-null  float64\n",
            " 11  purpose           21453 non-null  object \n",
            "dtypes: float64(1), int64(5), object(6)\n",
            "memory usage: 2.0+ MB\n"
          ]
        }
      ],
      "source": [
        "# Comprueba el tamaño del conjunto de datos que tienes ahora, después de haber ejecutado estas primeras manipulaciones\n",
        "credit.info()"
      ]
    },
    {
      "cell_type": "markdown",
      "metadata": {
        "id": "rZemV-AK7A7E"
      },
      "source": [
        "El nuevo conjunto de datos consta de 21470 filas, se eliminaron 55 filas duplicadas, que representaban el 0.25%. Se eliminaron debido a que es un valor muy pequeño dentro de nuestro conjunto de datos.\n"
      ]
    },
    {
      "cell_type": "markdown",
      "metadata": {
        "id": "YBcuDzvE7A7H"
      },
      "source": [
        "# Trabajar con valores ausentes"
      ]
    },
    {
      "cell_type": "markdown",
      "metadata": {
        "id": "BuqZdn0e7A7H"
      },
      "source": [
        "Los diccionarios nos ayudan a almacenar cualquier tipo de información y se puede acceder a la información de manera directa, solo sabiendo la clave. En este caso vamos a trabajar con los diccionarios de \"education_id\" y \"family_dict_id\"."
      ]
    },
    {
      "cell_type": "code",
      "execution_count": null,
      "metadata": {
        "id": "8ZoK1HZT7A7H",
        "outputId": "ed3f2bdf-246a-4aac-f2ab-3795ba1bbcf4"
      },
      "outputs": [
        {
          "name": "stdout",
          "output_type": "stream",
          "text": [
            "{0: \"bachelor's degree\", 1: 'secondary education', 2: 'some college', 3: 'primary education', 4: 'graduate degree'}\n",
            "\n",
            "{0: 'married', 1: 'civil partnership', 2: 'widow / widower', 3: 'divorced', 4: 'unmarried'}\n"
          ]
        }
      ],
      "source": [
        "# Encuentra los diccionarios\n",
        "\n",
        "education_dict = credit.set_index('education_id')['education'].to_dict()\n",
        "\n",
        "family_dict = credit.set_index('family_status_id')['family_status'].to_dict()\n",
        "\n",
        "print(education_dict)\n",
        "print()\n",
        "print(family_dict)\n"
      ]
    },
    {
      "cell_type": "markdown",
      "metadata": {
        "id": "jdZyASXy7A7H"
      },
      "source": [
        "### Restaurar valores ausentes en `total_income`"
      ]
    },
    {
      "cell_type": "markdown",
      "metadata": {
        "id": "KRPKoCSz7A7H"
      },
      "source": [
        "Las columnas que tienen valores ausentes son \"total income\" y \"days employed\". De las cuales, la columna \"days employed\" ya se realizó un arreglo en el que se cambiaron las filas vacias por una cadena vacia. Par el caso de la columna \"total income\" se calculará la media y mediana para ver cual seria la mejor opción para reemplazar en esta columna."
      ]
    },
    {
      "cell_type": "code",
      "execution_count": null,
      "metadata": {
        "id": "tRr5Sb9Y7A7H"
      },
      "outputs": [],
      "source": [
        "# Vamos a escribir una función que calcule la categoría de edad\n",
        "def age_group (dob_years):\n",
        "    if dob_years <= 26:\n",
        "        return 'young'\n",
        "    if dob_years <= 26:\n",
        "        return 'young'\n",
        "    if (dob_years > 27) & (dob_years <= 59):\n",
        "        return 'adult'\n",
        "    return 'old'"
      ]
    },
    {
      "cell_type": "code",
      "execution_count": null,
      "metadata": {
        "id": "OMd7_4FN7A7I",
        "outputId": "9993807e-bdc4-4bc9-f68b-f52c61fb1fbb"
      },
      "outputs": [
        {
          "name": "stdout",
          "output_type": "stream",
          "text": [
            "young\n",
            "adult\n",
            "old\n"
          ]
        }
      ],
      "source": [
        "# Prueba si la función funciona bien\n",
        "print(age_group(25))\n",
        "print(age_group(35))\n",
        "print(age_group(70))"
      ]
    },
    {
      "cell_type": "code",
      "execution_count": null,
      "metadata": {
        "id": "pzY2s_xi7A7I"
      },
      "outputs": [],
      "source": [
        "# Crear una nueva columna basada en la función\n",
        "credit['age_group'] = credit['dob_years'].apply(age_group)\n"
      ]
    },
    {
      "cell_type": "code",
      "execution_count": null,
      "metadata": {
        "id": "WAH68npn7A7I",
        "outputId": "3a26781a-3b23-42c8-8cb5-6e404bed45e1"
      },
      "outputs": [
        {
          "name": "stdout",
          "output_type": "stream",
          "text": [
            "0    adult\n",
            "1    adult\n",
            "2    adult\n",
            "3    adult\n",
            "4    adult\n",
            "5      old\n",
            "6    adult\n",
            "7    adult\n",
            "8    adult\n",
            "9    adult\n",
            "Name: age_group, dtype: object\n"
          ]
        }
      ],
      "source": [
        "# Comprobar cómo los valores en la nueva columna\n",
        "print(credit['age_group'].head(10))\n"
      ]
    },
    {
      "cell_type": "code",
      "execution_count": null,
      "metadata": {
        "id": "dSuQqyRe7A7I",
        "outputId": "827f16ca-c5cb-4d0e-88e8-ea157490b6e3"
      },
      "outputs": [
        {
          "name": "stdout",
          "output_type": "stream",
          "text": [
            "   children days_employed  dob_years            education  education_id  \\\n",
            "0         1   8437.673028         42    bachelor's degree             0   \n",
            "1         1   4024.803754         36  secondary education             1   \n",
            "2         0    5623.42261         33  secondary education             1   \n",
            "3         3   4124.747207         32  secondary education             1   \n",
            "4         0       5537.88         53  secondary education             1   \n",
            "5         0    926.185831         27    bachelor's degree             0   \n",
            "6         0   2879.202052         43    bachelor's degree             0   \n",
            "7         0    152.779569         50  secondary education             1   \n",
            "8         2   6929.865299         35    bachelor's degree             0   \n",
            "9         0   2188.756445         41  secondary education             1   \n",
            "\n",
            "       family_status  family_status_id gender income_type  debt  total_income  \\\n",
            "0            married                 0      F    employee     0     40620.102   \n",
            "1            married                 0      F    employee     0     17932.802   \n",
            "2            married                 0      M    employee     0     23341.752   \n",
            "3            married                 0      M    employee     0     42820.568   \n",
            "4  civil partnership                 1      F     retiree     0     25378.572   \n",
            "5  civil partnership                 1      M    business     0     40922.170   \n",
            "6            married                 0      F    business     0     38484.156   \n",
            "7            married                 0      M    employee     0     21731.829   \n",
            "8  civil partnership                 1      F    employee     0     15337.093   \n",
            "9            married                 0      M    employee     0     23108.150   \n",
            "\n",
            "                               purpose age_group  \n",
            "0                purchase of the house     adult  \n",
            "1                         car purchase     adult  \n",
            "2                purchase of the house     adult  \n",
            "3              supplementary education     adult  \n",
            "4                    to have a wedding     adult  \n",
            "5                purchase of the house       old  \n",
            "6                 housing transactions     adult  \n",
            "7                            education     adult  \n",
            "8                     having a wedding     adult  \n",
            "9  purchase of the house for my family     adult  \n"
          ]
        }
      ],
      "source": [
        "# Crea una tabla sin valores ausentes y muestra algunas de sus filas para asegurarte de que se ve bien\n",
        "\n",
        "print(credit[credit['total_income'].notnull()].head(10))\n"
      ]
    },
    {
      "cell_type": "code",
      "execution_count": null,
      "metadata": {
        "id": "JPiQZtms7A7I",
        "outputId": "b67c9b4b-01e1-4378-9857-e29f7bf6f2a5"
      },
      "outputs": [
        {
          "name": "stdout",
          "output_type": "stream",
          "text": [
            "family_status_id\n",
            "0    27041.784689\n",
            "1    26694.428597\n",
            "2    22984.208556\n",
            "3    27189.354550\n",
            "4    26934.069805\n",
            "Name: total_income, dtype: float64\n",
            "\n",
            "education_id\n",
            "0    33142.802434\n",
            "1    24594.503037\n",
            "2    29045.443644\n",
            "3    21144.882211\n",
            "4    27960.024667\n",
            "Name: total_income, dtype: float64\n"
          ]
        }
      ],
      "source": [
        "# Examina los valores medios de los ingresos en función de los factores que identificaste\n",
        "\n",
        "credit_family1 = credit.groupby('family_status_id')['total_income'].mean()\n",
        "credit_education1 = credit.groupby('education_id')['total_income'].mean()\n",
        "\n",
        "print(credit_family1)\n",
        "print()\n",
        "print(credit_education1)\n"
      ]
    },
    {
      "cell_type": "code",
      "execution_count": null,
      "metadata": {
        "scrolled": true,
        "id": "u0dUjIdR7A7I",
        "outputId": "e9b73b7d-d550-4c5c-b60c-9ab9bd2eb326"
      },
      "outputs": [
        {
          "name": "stdout",
          "output_type": "stream",
          "text": [
            "family_status_id\n",
            "0    23389.540\n",
            "1    23186.534\n",
            "2    20514.190\n",
            "3    23515.096\n",
            "4    23149.028\n",
            "Name: total_income, dtype: float64\n",
            "\n",
            "education_id\n",
            "0    28054.5310\n",
            "1    21836.5830\n",
            "2    25618.4640\n",
            "3    18741.9760\n",
            "4    25161.5835\n",
            "Name: total_income, dtype: float64\n"
          ]
        }
      ],
      "source": [
        "# Examina los valores medianos de los ingresos en función de los factores que identificaste\n",
        "\n",
        "credit_family2 = credit.groupby('family_status_id')['total_income'].median()\n",
        "credit_education2 = credit.groupby('education_id')['total_income'].median()\n",
        "\n",
        "print(credit_family2)\n",
        "print()\n",
        "print(credit_education2)\n"
      ]
    },
    {
      "cell_type": "code",
      "execution_count": null,
      "metadata": {
        "id": "oQB3MLR57A7I",
        "outputId": "874ebe9c-5880-45f8-c81f-5feab4080227"
      },
      "outputs": [
        {
          "name": "stdout",
          "output_type": "stream",
          "text": [
            "education  bachelor's degree  graduate degree  primary education  \\\n",
            "age_group                                                          \n",
            "adult             28989.7380       25161.5835          19522.738   \n",
            "old               25904.9790       28334.2150          17370.808   \n",
            "young             23620.9365              NaN          26303.970   \n",
            "\n",
            "education  secondary education  some college  \n",
            "age_group                                     \n",
            "adult                22320.661     27143.465  \n",
            "old                  19325.406     26222.172  \n",
            "young                20718.261     22457.706  \n"
          ]
        }
      ],
      "source": [
        "credit_pivot_1 = credit.pivot_table(values='total_income', index='age_group', columns='education', aggfunc='median')\n",
        "print(credit_pivot_1)"
      ]
    },
    {
      "cell_type": "code",
      "execution_count": null,
      "metadata": {
        "id": "PNO9HheP7A7I",
        "outputId": "075a93a9-80c0-4cbe-ff84-87013b5a612c"
      },
      "outputs": [
        {
          "name": "stdout",
          "output_type": "stream",
          "text": [
            "income_type    business  civil servant   employee  entrepreneur  \\\n",
            "age_group                                                         \n",
            "adult        28085.3745     24123.3445  23044.788           NaN   \n",
            "old          29235.8765     24887.0735  22994.726     79866.103   \n",
            "young        23925.6240     22167.7645  20747.911           NaN   \n",
            "\n",
            "income_type  paternity / maternity leave    retiree   student  unemployed  \n",
            "age_group                                                                  \n",
            "adult                           8612.661  19760.454       NaN  21014.3605  \n",
            "old                                  NaN  18412.925       NaN         NaN  \n",
            "young                                NaN  14298.976  15712.26         NaN  \n"
          ]
        }
      ],
      "source": [
        "credit_pivot_2 = credit.pivot_table(values='total_income', index='age_group', columns='income_type', aggfunc='median')\n",
        "print(credit_pivot_2)"
      ]
    },
    {
      "cell_type": "code",
      "execution_count": null,
      "metadata": {
        "id": "lEwVp2bL7A7I",
        "outputId": "362ef186-57e5-463b-bce7-bc44849f20a3"
      },
      "outputs": [
        {
          "name": "stdout",
          "output_type": "stream",
          "text": [
            "income_type           business  civil servant    employee  entrepreneur  \\\n",
            "education                                                                 \n",
            "bachelor's degree    32285.664     27601.7775  26502.5190     79866.103   \n",
            "graduate degree            NaN     17822.7570  31771.3210           NaN   \n",
            "primary education    21887.825     23734.2870  20159.1860           NaN   \n",
            "secondary education  25451.310     21864.4750  21848.8175           NaN   \n",
            "some college         28778.744     25694.7750  24209.4300           NaN   \n",
            "\n",
            "income_type          paternity / maternity leave    retiree   student  \\\n",
            "education                                                               \n",
            "bachelor's degree                            NaN  23078.523  15712.26   \n",
            "graduate degree                              NaN  28334.215       NaN   \n",
            "primary education                            NaN  16415.785       NaN   \n",
            "secondary education                     8612.661  18374.857       NaN   \n",
            "some college                                 NaN  19221.903       NaN   \n",
            "\n",
            "income_type          unemployed  \n",
            "education                        \n",
            "bachelor's degree     32435.602  \n",
            "graduate degree             NaN  \n",
            "primary education           NaN  \n",
            "secondary education    9593.119  \n",
            "some college                NaN  \n"
          ]
        }
      ],
      "source": [
        "credit_pivot_3 = credit.pivot_table(values='total_income', index='education', columns='income_type', aggfunc='median')\n",
        "print(credit_pivot_3)"
      ]
    },
    {
      "cell_type": "markdown",
      "metadata": {
        "id": "iet38uES7A7I"
      },
      "source": [
        "La caracteristica que mejor define el ingreso de las personas es \"income_type\" y \"education\", porque al tener un mejor nivel de educación como: \"bachelor's degree\" o \"somo college\", y al tener un negocio propio o ser emprendedor te dan mejores ingresos. Usaremos la mediana para completar los datos ausentes para devolver la tendencia central porque tenemos algunos valores atípicos como ingresos muy altos o muy bajos dependiendo del caso."
      ]
    },
    {
      "cell_type": "code",
      "execution_count": null,
      "metadata": {
        "id": "pmcabeE87A7I",
        "outputId": "ee6cd6ab-cf96-4f68-a9fe-81e2aafeace4"
      },
      "outputs": [
        {
          "data": {
            "text/plain": [
              "education_id\n",
              "0    28054.5310\n",
              "1    21836.5830\n",
              "2    25618.4640\n",
              "3    18741.9760\n",
              "4    25161.5835\n",
              "Name: total_income, dtype: float64"
            ]
          },
          "execution_count": 56,
          "metadata": {},
          "output_type": "execute_result"
        }
      ],
      "source": [
        "credit_education2"
      ]
    },
    {
      "cell_type": "code",
      "execution_count": null,
      "metadata": {
        "id": "KuK3Ypru7A7I"
      },
      "outputs": [],
      "source": [
        "def income_med(row):\n",
        "    total_inc = row['total_income']\n",
        "    educ_id = row['education_id']\n",
        "\n",
        "    if pd.isna(total_inc):\n",
        "        return credit_education2[educ_id]\n",
        "    else:\n",
        "        return total_inc"
      ]
    },
    {
      "cell_type": "code",
      "execution_count": null,
      "metadata": {
        "id": "p2HfJ2py7A7J",
        "outputId": "acedf08b-b3ca-435a-b6b1-84e944a20f85"
      },
      "outputs": [
        {
          "name": "stdout",
          "output_type": "stream",
          "text": [
            "21836.583\n"
          ]
        }
      ],
      "source": [
        "# Comprueba si funciona\n",
        "\n",
        "print(income_med(credit.loc[12]))"
      ]
    },
    {
      "cell_type": "code",
      "execution_count": null,
      "metadata": {
        "id": "uEZqh7dR7A7J"
      },
      "outputs": [],
      "source": [
        "# Aplícalo a cada fila\n",
        "credit['total_income'] = credit.apply(income_med, axis =1)"
      ]
    },
    {
      "cell_type": "code",
      "execution_count": null,
      "metadata": {
        "id": "UB1R1yve7A7J",
        "outputId": "f567942b-aa21-4aea-fa3f-59985f41dd08"
      },
      "outputs": [
        {
          "name": "stdout",
          "output_type": "stream",
          "text": [
            "0\n"
          ]
        }
      ],
      "source": [
        "# Comprueba si tenemos algún error\n",
        "print(credit['total_income'].isna().sum())\n",
        "\n"
      ]
    },
    {
      "cell_type": "code",
      "execution_count": null,
      "metadata": {
        "id": "YbMbvvU87A7J",
        "outputId": "65046af7-f186-49f6-f471-ffbe25e060f6"
      },
      "outputs": [
        {
          "name": "stdout",
          "output_type": "stream",
          "text": [
            " El número de filas de total_income es: (21453,)\n",
            " El número de filas de income_type es: (21453,)\n"
          ]
        }
      ],
      "source": [
        "# Comprobar el número de entradas en las columnas\n",
        "\n",
        "print(f' El número de filas de total_income es: ' + str(credit['total_income'].shape))\n",
        "print(f' El número de filas de income_type es: ' + str(credit['income_type'].shape))\n"
      ]
    },
    {
      "cell_type": "markdown",
      "metadata": {
        "id": "meRtupBK7A7J"
      },
      "source": [
        "###  Restaurar valores en `days_employed`"
      ]
    },
    {
      "cell_type": "code",
      "execution_count": null,
      "metadata": {
        "id": "_c0UyJJ-7A7J"
      },
      "outputs": [],
      "source": [
        "credit['days_employed'] = pd.to_numeric(credit['days_employed'], errors = 'ignore')"
      ]
    },
    {
      "cell_type": "code",
      "execution_count": null,
      "metadata": {
        "pycharm": {
          "name": "#%%\n"
        },
        "id": "dzwj-oZp7A7J",
        "outputId": "11e0f5e4-f4a4-43da-b9e2-7eb4e15be812"
      },
      "outputs": [
        {
          "name": "stdout",
          "output_type": "stream",
          "text": [
            "family_status_id\n",
            "0    2304.964439\n",
            "1    1944.345291\n",
            "2    5537.880000\n",
            "3    2401.954568\n",
            "4    1462.009287\n",
            "Name: days_employed, dtype: float64\n",
            "\n",
            "education_id\n",
            "0    1895.747795\n",
            "1    2392.483500\n",
            "2    1209.128083\n",
            "3    3043.933615\n",
            "4    5444.959090\n",
            "Name: days_employed, dtype: float64\n",
            "\n"
          ]
        }
      ],
      "source": [
        "# Distribución de las medianas de `days_employed` en función de los parámetros identificados\n",
        "credit_family3 = credit.groupby('family_status_id')['days_employed'].median()\n",
        "credit_education3 = credit.groupby('education_id')['days_employed'].median()\n",
        "print(credit_family3)\n",
        "print()\n",
        "print(credit_education3)\n",
        "print()\n"
      ]
    },
    {
      "cell_type": "code",
      "execution_count": null,
      "metadata": {
        "id": "mjrl43zu7A7J",
        "outputId": "b87a4a08-a122-4b79-bc85-a62763e9f117"
      },
      "outputs": [
        {
          "name": "stdout",
          "output_type": "stream",
          "text": [
            "family_status_id\n",
            "0    2974.090958\n",
            "1    2752.174329\n",
            "2    4438.267713\n",
            "3    3011.063221\n",
            "4    2301.591922\n",
            "Name: days_employed, dtype: float64\n",
            "\n",
            "education_id\n",
            "0    2629.373886\n",
            "1    3057.818749\n",
            "2    1769.211163\n",
            "3    3222.436386\n",
            "4    4192.751024\n",
            "Name: days_employed, dtype: float64\n",
            "\n"
          ]
        }
      ],
      "source": [
        "# Distribución de las medias de `days_employed` en función de los parámetros identificados\n",
        "credit_family4 = credit.groupby('family_status_id')['days_employed'].mean()\n",
        "credit_education4 = credit.groupby('education_id')['days_employed'].mean()\n",
        "print(credit_family4)\n",
        "print()\n",
        "print(credit_education4)\n",
        "print()\n"
      ]
    },
    {
      "cell_type": "markdown",
      "metadata": {
        "id": "-nL7MAzL7A7J"
      },
      "source": [
        "En este caso se va a utilizar la media porque los valores de \"days_employed\" ya fueron arreglados, entonces ya no hay datos atípicos. Voy a realizar la función con el parámetro family status porque dependiendo de este estado se observa la experiencia laboral que han tenido a lo largo del tiempo."
      ]
    },
    {
      "cell_type": "code",
      "execution_count": null,
      "metadata": {
        "id": "gJpgUp8a7A7J"
      },
      "outputs": [],
      "source": [
        "# Escribamos una función que calcule medias o medianas (dependiendo de tu decisión) según el parámetro identificado\n",
        "\n",
        "def employ_mean(row):\n",
        "    days_employed = row['days_employed']\n",
        "    family_status_id = row['family_status_id']\n",
        "\n",
        "    if pd.isna(days_employed):\n",
        "        return credit_family4[family_status_id]\n",
        "    else:\n",
        "        return days_employed\n"
      ]
    },
    {
      "cell_type": "code",
      "execution_count": null,
      "metadata": {
        "id": "xA4-v44l7A7J",
        "outputId": "7e837436-f680-478d-9f04-1842bc5be52a"
      },
      "outputs": [
        {
          "name": "stdout",
          "output_type": "stream",
          "text": [
            "2752.174329492404\n"
          ]
        }
      ],
      "source": [
        "# Comprueba que la función funciona\n",
        "#la Fila 12 tiene el valor 0 (valor ausente)\n",
        "print(employ_mean(credit.loc[12]))\n"
      ]
    },
    {
      "cell_type": "code",
      "execution_count": null,
      "metadata": {
        "id": "PgyOFHfl7A7J",
        "outputId": "5b58969c-cba9-46c1-b3df-2f3ea6554418"
      },
      "outputs": [
        {
          "name": "stdout",
          "output_type": "stream",
          "text": [
            "income_type\n",
            "business                       2104.433353\n",
            "civil servant                  3378.318623\n",
            "employee                       2315.211789\n",
            "entrepreneur                    520.848083\n",
            "paternity / maternity leave    3296.759962\n",
            "retiree                        5537.880000\n",
            "student                         578.751554\n",
            "unemployed                     5537.880000\n",
            "Name: days_employed, dtype: float64\n"
          ]
        }
      ],
      "source": [
        "# Aplicar la función al income_type\n",
        "credit_income1 = credit.groupby('income_type')['days_employed'].mean()\n",
        "print(credit_income1)"
      ]
    },
    {
      "cell_type": "code",
      "execution_count": null,
      "metadata": {
        "id": "9H8nU7J07A7K"
      },
      "outputs": [],
      "source": [
        "def income_mean(row):\n",
        "    days_employed = row['days_employed']\n",
        "    income_type = row['income_type']\n",
        "\n",
        "    if pd.isna(days_employed):\n",
        "        return credit_income1[income_type]\n",
        "    else:\n",
        "        return days_employed\n",
        "\n",
        "#credit['days_employed'] = credit.apply(employ_mean, axis=1)"
      ]
    },
    {
      "cell_type": "code",
      "execution_count": null,
      "metadata": {
        "id": "FmIgW42Q7A7K",
        "outputId": "3b3ba065-b3f0-4385-88de-7c8fda948196"
      },
      "outputs": [
        {
          "name": "stdout",
          "output_type": "stream",
          "text": [
            "5537.880000000193\n"
          ]
        }
      ],
      "source": [
        "# Comprueba si la función funcionó\n",
        "print(income_mean(credit.loc[12]))\n"
      ]
    },
    {
      "cell_type": "code",
      "execution_count": null,
      "metadata": {
        "id": "Gu6kKmjl7A7K"
      },
      "outputs": [],
      "source": [
        "# Reemplazar valores ausentes\n",
        "credit['days_employed'] = credit.apply(income_mean, axis=1)\n"
      ]
    },
    {
      "cell_type": "code",
      "execution_count": null,
      "metadata": {
        "id": "3nJu_kRy7A7K",
        "outputId": "d48189c5-64fb-4580-81a1-c2532f1dcdb5"
      },
      "outputs": [
        {
          "name": "stdout",
          "output_type": "stream",
          "text": [
            " El número de filas de days_employed es: (21453,)\n",
            " El número de filas de income_type es: (21453,)\n"
          ]
        }
      ],
      "source": [
        "# Comprueba las entradas en todas las columnas: asegúrate de que hayamos corregido todos los valores ausentes\n",
        "\n",
        "print(f' El número de filas de days_employed es: ' + str(credit['days_employed'].shape))\n",
        "print(f' El número de filas de income_type es: ' + str(credit['income_type'].shape))"
      ]
    },
    {
      "cell_type": "markdown",
      "metadata": {
        "id": "SLxZ4dsl7A7K"
      },
      "source": [
        "## Clasificación de datos\n"
      ]
    },
    {
      "cell_type": "code",
      "execution_count": null,
      "metadata": {
        "scrolled": true,
        "id": "jIi_JD8Q7A7K",
        "outputId": "11015691-1100-4bdc-bcf4-95a7dcdce0dd"
      },
      "outputs": [
        {
          "name": "stdout",
          "output_type": "stream",
          "text": [
            "   children  debt\n",
            "0         1     0\n",
            "1         1     0\n",
            "2         0     0\n",
            "3         3     0\n",
            "4         0     0\n",
            "5         0     0\n",
            "6         0     0\n",
            "7         0     0\n",
            "8         2     0\n",
            "9         0     0\n"
          ]
        }
      ],
      "source": [
        "# Muestra los valores de los datos seleccionados para la clasificación\n",
        "\n",
        "data_child = credit[['children', 'debt']]\n",
        "\n",
        "print(data_child.head(10))"
      ]
    },
    {
      "cell_type": "code",
      "execution_count": null,
      "metadata": {
        "id": "VqJU_-1g7A7K",
        "outputId": "bc6d9722-bce5-4c01-8d43-e17ba6395166"
      },
      "outputs": [
        {
          "name": "stdout",
          "output_type": "stream",
          "text": [
            "       family_status  debt\n",
            "0            married     0\n",
            "1            married     0\n",
            "2            married     0\n",
            "3            married     0\n",
            "4  civil partnership     0\n",
            "5  civil partnership     0\n",
            "6            married     0\n",
            "7            married     0\n",
            "8  civil partnership     0\n",
            "9            married     0\n"
          ]
        }
      ],
      "source": [
        "data_family = credit[['family_status', 'debt']]\n",
        "\n",
        "print(data_family.head(10))"
      ]
    },
    {
      "cell_type": "code",
      "execution_count": null,
      "metadata": {
        "id": "llWD44ym7A7K",
        "outputId": "6e66a00b-252e-4108-9714-7f97dfaa915c"
      },
      "outputs": [
        {
          "name": "stdout",
          "output_type": "stream",
          "text": [
            "   total_income  debt\n",
            "0     40620.102     0\n",
            "1     17932.802     0\n",
            "2     23341.752     0\n",
            "3     42820.568     0\n",
            "4     25378.572     0\n",
            "5     40922.170     0\n",
            "6     38484.156     0\n",
            "7     21731.829     0\n",
            "8     15337.093     0\n",
            "9     23108.150     0\n"
          ]
        }
      ],
      "source": [
        "data_income = credit[['total_income', 'debt']]\n",
        "\n",
        "print(data_income.head(10))"
      ]
    },
    {
      "cell_type": "markdown",
      "metadata": {
        "id": "MiV01ldI7A7K"
      },
      "source": [
        "Antes de continuar con la clasificación de los datos, voy a arreglar los datos de la columna \"purpose\""
      ]
    },
    {
      "cell_type": "code",
      "execution_count": null,
      "metadata": {
        "id": "JZV98QcK7A7K"
      },
      "outputs": [],
      "source": [
        "def purpose_property(wrong_values, correct_value):\n",
        "    for wrong_value in wrong_values:\n",
        "        credit['purpose'] = credit['purpose'].replace(wrong_values, correct_value)\n",
        "duplicates1 = ['real estate transactions','buy commercial real estate','housing transactions','buying property for renting out','transactions with commercial real estate','housing','purchase of the house','purchase of the house for my family','construction of own property','property','transactions with my real estate','building a real estate','buy real estate','purchase of my own house','building a property','housing renovation','buy residential real estate']\n",
        "name1 = 'get property'\n",
        "purpose_property(duplicates1,name1)\n",
        "#credit['purpose'] = credit.apply(purpose_property, axis=1)\n",
        "\n",
        "def purpose_car(wrong_values, correct_value):\n",
        "    for wrong_value in wrong_values:\n",
        "        credit['purpose'] = credit['purpose'].replace(wrong_values, correct_value)\n",
        "duplicates2 = ['car purchase','buying a second-hand car','buying my own car','cars','second-hand car purchase','car','to own a car','purchase of a car','to buy a car']\n",
        "name2 = 'get a car'\n",
        "purpose_car(duplicates2,name2)\n",
        "\n",
        "def purpose_education(wrong_values, correct_value):\n",
        "    for wrong_value in wrong_values:\n",
        "        credit['purpose'] = credit['purpose'].replace(wrong_values, correct_value)\n",
        "duplicates3 = ['supplementary education','education','to become educated','getting an education','to get a supplementary education','getting higher education','profile education','university education','going to university']\n",
        "name3 = 'get educated'\n",
        "purpose_education(duplicates3,name3)\n",
        "\n",
        "def purpose_wedding(wrong_values, correct_value):\n",
        "    for wrong_value in wrong_values:\n",
        "        credit['purpose'] = credit['purpose'].replace(wrong_values, correct_value)\n",
        "duplicates4 = ['to have a wedding','having a wedding','wedding ceremony']\n",
        "name4 = 'get wedding'\n",
        "purpose_wedding(duplicates4,name4)"
      ]
    },
    {
      "cell_type": "code",
      "execution_count": null,
      "metadata": {
        "id": "hrX-mUEj7A7L",
        "outputId": "9b50344b-cd2f-40ea-9c1d-d0a92056ab6a"
      },
      "outputs": [
        {
          "name": "stdout",
          "output_type": "stream",
          "text": [
            "        purpose  debt\n",
            "0  get property     0\n",
            "1     get a car     0\n",
            "2  get property     0\n",
            "3  get educated     0\n",
            "4   get wedding     0\n",
            "5  get property     0\n",
            "6  get property     0\n",
            "7  get educated     0\n",
            "8   get wedding     0\n",
            "9  get property     0\n"
          ]
        }
      ],
      "source": [
        "data_purpose = credit[['purpose', 'debt']]\n",
        "\n",
        "print(data_purpose.head(10))"
      ]
    },
    {
      "cell_type": "code",
      "execution_count": null,
      "metadata": {
        "id": "yGIwqbtn7A7L",
        "outputId": "4c0f44f7-14f5-4c2e-e000-aafe59d02748"
      },
      "outputs": [
        {
          "name": "stdout",
          "output_type": "stream",
          "text": [
            "0    14213\n",
            "1     4808\n",
            "2     2052\n",
            "3      330\n",
            "4       41\n",
            "5        9\n",
            "Name: children, dtype: int64\n"
          ]
        }
      ],
      "source": [
        "# Comprobar los valores únicos\n",
        "data_child_un = data_child['children'].value_counts()\n",
        "print(data_child_un)"
      ]
    },
    {
      "cell_type": "code",
      "execution_count": null,
      "metadata": {
        "id": "vkOoyyIV7A7L",
        "outputId": "c1673279-674d-472a-b934-09c4720d6f63"
      },
      "outputs": [
        {
          "name": "stdout",
          "output_type": "stream",
          "text": [
            "married              12339\n",
            "civil partnership     4150\n",
            "unmarried             2810\n",
            "divorced              1195\n",
            "widow / widower        959\n",
            "Name: family_status, dtype: int64\n"
          ]
        }
      ],
      "source": [
        "data_family_un = data_family['family_status'].value_counts()\n",
        "print(data_family_un)"
      ]
    },
    {
      "cell_type": "code",
      "execution_count": null,
      "metadata": {
        "id": "B_OR2icw7A7L",
        "outputId": "62f1ea3b-193e-4363-c65c-aba0bd8e35e7"
      },
      "outputs": [
        {
          "name": "stdout",
          "output_type": "stream",
          "text": [
            "21836.583    1479\n",
            "28054.531     534\n",
            "25618.464      70\n",
            "18741.976      22\n",
            "42413.096       2\n",
            "             ... \n",
            "27097.085       1\n",
            "45484.109       1\n",
            "27715.458       1\n",
            "23834.534       1\n",
            "41428.916       1\n",
            "Name: total_income, Length: 19349, dtype: int64\n"
          ]
        }
      ],
      "source": [
        "data_income_un = data_income['total_income'].value_counts()\n",
        "print(data_income_un)"
      ]
    },
    {
      "cell_type": "code",
      "execution_count": null,
      "metadata": {
        "id": "v4lSveeC7A7L",
        "outputId": "93daa810-333d-4601-8a95-4ef8e6fbc40b"
      },
      "outputs": [
        {
          "name": "stdout",
          "output_type": "stream",
          "text": [
            "get property    10811\n",
            "get a car        4306\n",
            "get educated     4013\n",
            "get wedding      2323\n",
            "Name: purpose, dtype: int64\n"
          ]
        }
      ],
      "source": [
        "data_purpose_un = data_purpose['purpose'].value_counts()\n",
        "print(data_purpose_un)"
      ]
    },
    {
      "cell_type": "markdown",
      "metadata": {
        "id": "4nhd97ko7A7L"
      },
      "source": [
        "Se va a clasificar los datos de los ingresos como: altos ingresos y bajos ingresos. Para ello se va a tomar en cuenta el valor de la canasta básica familiar en el Ecuador. Aquellas personas que superen el valor de la canasta básica familiar del Ecuador se clasifican como \"high income\" y los que tengan valores inferiores se llamarán \"low income\". A la fecha el valor de la canasta básica familiar del Ecuador es de: 763 dólares americanos. No tengo datos adicionales de los valores de la columna \"total_income\", solo me dicen que son ingresos mensuales, pero al ser valores muy altos, asumo que no es el dólar. Pero voy a asumir que son pesos mexicanos. Haciendo la transformación a la fecha de los 763 dólares americanos a pesos mexicanos, me sale que es un valor de 14319 pesos mexicanos."
      ]
    },
    {
      "cell_type": "code",
      "execution_count": null,
      "metadata": {
        "id": "IK-Jp0k87A7L"
      },
      "outputs": [],
      "source": [
        "# Revisar todos los datos numéricos en la columna seleccionada para la clasificación\n",
        "\n",
        "def income_group(row):\n",
        "    total_income = row['total_income']\n",
        "\n",
        "    if total_income < 14319:\n",
        "        return 'low income'\n",
        "    return 'high income'\n",
        "\n",
        "credit['income_group'] = credit.apply(income_group, axis=1)"
      ]
    },
    {
      "cell_type": "code",
      "execution_count": null,
      "metadata": {
        "id": "Dj2oPBsy7A7L",
        "outputId": "1d792059-8529-4f04-854e-84433a152627"
      },
      "outputs": [
        {
          "data": {
            "text/plain": [
              "high income    18152\n",
              "low income      3301\n",
              "Name: income_group, dtype: int64"
            ]
          },
          "execution_count": 82,
          "metadata": {},
          "output_type": "execute_result"
        }
      ],
      "source": [
        "# Obtener estadísticas resumidas para la columna\n",
        "credit['income_group'].value_counts()"
      ]
    },
    {
      "cell_type": "markdown",
      "metadata": {
        "id": "XmcoRm5j7A7L"
      },
      "source": [
        "Se escogerá el nivel de ingreso alto \"high income\" y bajo \"low income\" para cada propósito. En primera instancia se catalogó como riesgo medio a quienes tienen altos ingresos y buscan una propiedad porque al tener altos ingresos es muy posible que puedan pagar la propiedad tranquilamente. Al tener bajos ingresos y querer pagar una propiedad es de riesgo crítico porque es bastante probable que no la puedan pagar porque no tienen los medios para hacerlo. Tener altos ingresos y querer un auto, es de riesgo medio porque al tener altos ingresos es muy probable que las personas quieren un auto costoso, por tal motivo en algún punto puede ser medio riesgoso llegar a pagar el auto. Al tener bajos ingresos el hecho de querer educarse o casarse es de riesgo medio porque no son valores muy altos, entonces es asequible poder pagar por esos propósitos. Y es mas riesgoso aún para las personas de bajos ingresos querer tener un auto, porque es un valor mas alto que pueden complicarse al momento de querer pagar. Para las personas de altos ingresos es mas seguro querer pagar por los propósitos como educarse o casarse porque no son valores muy altos."
      ]
    },
    {
      "cell_type": "code",
      "execution_count": null,
      "metadata": {
        "id": "x9TRMy9d7A7L"
      },
      "outputs": [],
      "source": [
        "# Crear una función para clasificar en diferentes grupos numéricos basándose en rangos\n",
        "\n",
        "def risk (row):\n",
        "    income_group = row['income_group']\n",
        "    purpose = row['purpose']\n",
        "\n",
        "    if income_group == 'high income':\n",
        "        if purpose == 'get property':\n",
        "            return 'medium'\n",
        "\n",
        "    if income_group == 'low income':\n",
        "        if purpose == 'get property':\n",
        "            return 'critical'\n",
        "\n",
        "    if income_group == 'high income':\n",
        "        if purpose == 'get a car':\n",
        "            return 'medium'\n",
        "\n",
        "    if income_group == 'low income':\n",
        "        if purpose == 'get a car':\n",
        "            return 'critical'\n",
        "\n",
        "    if income_group == 'low income':\n",
        "        if purpose == 'get educated':\n",
        "            return 'medium'\n",
        "\n",
        "    if income_group == 'low income':\n",
        "        if purpose == 'get wedding':\n",
        "            return 'medium'\n",
        "    return 'secure'\n",
        ""
      ]
    },
    {
      "cell_type": "code",
      "execution_count": null,
      "metadata": {
        "id": "PA1kTTpV7A7M"
      },
      "outputs": [],
      "source": [
        "# Crear una columna con categorías\n",
        "credit['risk'] = credit.apply(risk, axis=1)"
      ]
    },
    {
      "cell_type": "code",
      "execution_count": null,
      "metadata": {
        "scrolled": true,
        "id": "bcOBYaoX7A7M",
        "outputId": "c35378b4-bfae-4156-a4e8-5aec0841e1d0"
      },
      "outputs": [
        {
          "data": {
            "text/plain": [
              "medium      13768\n",
              "secure       5360\n",
              "critical     2325\n",
              "Name: risk, dtype: int64"
            ]
          },
          "execution_count": 85,
          "metadata": {},
          "output_type": "execute_result"
        }
      ],
      "source": [
        "# Contar los valores de cada categoría para ver la distribución\n",
        "credit['risk'].value_counts()"
      ]
    },
    {
      "cell_type": "markdown",
      "metadata": {
        "id": "_eW0t6sv7A7M"
      },
      "source": [
        "## Comprobación de las hipótesis\n"
      ]
    },
    {
      "cell_type": "markdown",
      "metadata": {
        "id": "gyXwimGB7A7M"
      },
      "source": [
        "**¿Existe una correlación entre tener hijos y pagar a tiempo?**"
      ]
    },
    {
      "cell_type": "code",
      "execution_count": null,
      "metadata": {
        "id": "7Xn-mkGV7A7M",
        "outputId": "6518422e-8626-420c-c2b0-9f6d93196384"
      },
      "outputs": [
        {
          "name": "stdout",
          "output_type": "stream",
          "text": [
            "children  debt\n",
            "0         0       13141\n",
            "1         0        4364\n",
            "2         0        1858\n",
            "3         0         303\n",
            "4         0          37\n",
            "5         0           9\n",
            "dtype: int64\n"
          ]
        }
      ],
      "source": [
        "# Comprueba los datos sobre los hijos y los pagos puntuales\n",
        "#1 si presenta deuda\n",
        "\n",
        "child0 = data_child[data_child['debt'] == 0].value_counts()\n",
        "print(child0)\n"
      ]
    },
    {
      "cell_type": "code",
      "execution_count": null,
      "metadata": {
        "id": "Frkjn4Iv7A7M",
        "outputId": "052c9308-1bb3-4bca-cc00-d0ebb11f75be"
      },
      "outputs": [
        {
          "name": "stdout",
          "output_type": "stream",
          "text": [
            "Total de valores para cada número de hijos\n",
            "children\n",
            "0    14213\n",
            "1     4808\n",
            "2     2052\n",
            "3      330\n",
            "4       41\n",
            "5        9\n",
            "Name: debt, dtype: int64\n",
            "\n",
            "Cantidad de personas que presentan deuda en función del número de hijos\n",
            "children\n",
            "0    1072\n",
            "1     444\n",
            "2     194\n",
            "3      27\n",
            "4       4\n",
            "5       0\n",
            "Name: debt, dtype: int64\n",
            "\n",
            "Cantidad de personas que no presentan deuda en función del número de hijos\n",
            "children\n",
            "0    13141\n",
            "1     4364\n",
            "2     1858\n",
            "3      303\n",
            "4       37\n",
            "5        9\n",
            "Name: debt, dtype: int64\n"
          ]
        }
      ],
      "source": [
        "# Calcular la tasa de incumplimiento en función del número de hijos\n",
        "\n",
        "print('Total de valores para cada número de hijos')\n",
        "child_total = credit.groupby('children')['debt'].count()\n",
        "print(child_total)\n",
        "print()\n",
        "print('Cantidad de personas que presentan deuda en función del número de hijos')\n",
        "child_1 = credit.groupby('children')['debt'].sum()\n",
        "print(child_1)\n",
        "print()\n",
        "print('Cantidad de personas que no presentan deuda en función del número de hijos')\n",
        "child_0 = child_total - child_1\n",
        "print(child_0)"
      ]
    },
    {
      "cell_type": "code",
      "execution_count": null,
      "metadata": {
        "id": "xnCw2JBq7A7M",
        "outputId": "64dd9ed2-8afb-4625-b491-b407eac70025"
      },
      "outputs": [
        {
          "name": "stdout",
          "output_type": "stream",
          "text": [
            "Tasa de incumplimiento en función del numero de hijos\n",
            "children\n",
            "0    0.081577\n",
            "1    0.101742\n",
            "2    0.104413\n",
            "3    0.089109\n",
            "4    0.108108\n",
            "5    0.000000\n",
            "Name: debt, dtype: float64\n"
          ]
        }
      ],
      "source": [
        "print('Tasa de incumplimiento en función del numero de hijos')\n",
        "print(child_1 / child_0)"
      ]
    },
    {
      "cell_type": "markdown",
      "metadata": {
        "id": "hOSFRRW67A7M"
      },
      "source": [
        "**Conclusión**\n",
        "\n",
        "En función a la última tabla se observa lo siguiente:\n",
        "1. La cantidad de personas que tiene hijos y tienen deuda no es muy grande, se observa que la gran mayoria paga a tiempo sus deudas.\n",
        "2. Debido a lo que se mencionó en el punto 1, no hay mucha diferencia en la tasa de incumplimiento entre la cantidad de hijos que las personas puedan tener y que mantienen la deuda. Por lo tanto si existe una ligera correlación entre tener mas hijos y no cumplir con sus deudas, como ocurre en el caso de las personas que tienen 1, 2 y 4 hijos quienes tienen la tasa de incumplimiento mas alta para este caso."
      ]
    },
    {
      "cell_type": "markdown",
      "metadata": {
        "id": "7yp6rCqD7A7M"
      },
      "source": [
        "**¿Existe una correlación entre la situación familiar y el pago a tiempo?**"
      ]
    },
    {
      "cell_type": "code",
      "execution_count": null,
      "metadata": {
        "id": "0VrJHQvV7A7M",
        "outputId": "261ee8e1-8445-4136-bd36-08898bef97da"
      },
      "outputs": [
        {
          "name": "stdout",
          "output_type": "stream",
          "text": [
            "Total de valores para cada estado civil\n",
            "family_status\n",
            "civil partnership     4150\n",
            "divorced              1195\n",
            "married              12339\n",
            "unmarried             2810\n",
            "widow / widower        959\n",
            "Name: debt, dtype: int64\n",
            "\n",
            "Cantidad de personas que presentan deuda en función del estado civil\n",
            "family_status\n",
            "civil partnership    388\n",
            "divorced              85\n",
            "married              931\n",
            "unmarried            274\n",
            "widow / widower       63\n",
            "Name: debt, dtype: int64\n",
            "\n",
            "Cantidad de personas que no presentan deuda en función del estado civil\n",
            "family_status\n",
            "civil partnership     3762\n",
            "divorced              1110\n",
            "married              11408\n",
            "unmarried             2536\n",
            "widow / widower        896\n",
            "Name: debt, dtype: int64\n"
          ]
        }
      ],
      "source": [
        "# Comprueba los datos del estado familiar y los pagos a tiempo\n",
        "print('Total de valores para cada estado civil')\n",
        "family_total = credit.groupby('family_status')['debt'].count()\n",
        "print(family_total)\n",
        "print()\n",
        "print('Cantidad de personas que presentan deuda en función del estado civil')\n",
        "family_1 = credit.groupby('family_status')['debt'].sum()\n",
        "print(family_1)\n",
        "print()\n",
        "print('Cantidad de personas que no presentan deuda en función del estado civil')\n",
        "family_0 = family_total - family_1\n",
        "print(family_0)\n"
      ]
    },
    {
      "cell_type": "code",
      "execution_count": null,
      "metadata": {
        "id": "yDRXgmHK7A7M",
        "outputId": "7688f0d0-9e42-4722-83da-b47ee351dde0"
      },
      "outputs": [
        {
          "name": "stdout",
          "output_type": "stream",
          "text": [
            "family_status\n",
            "civil partnership    0.103137\n",
            "divorced             0.076577\n",
            "married              0.081609\n",
            "unmarried            0.108044\n",
            "widow / widower      0.070312\n",
            "Name: debt, dtype: float64\n"
          ]
        }
      ],
      "source": [
        "# Calcular la tasa de incumplimiento basada en el estado familiar\n",
        "print(family_1 / family_0)"
      ]
    },
    {
      "cell_type": "markdown",
      "metadata": {
        "id": "N7w-REfw7A7N"
      },
      "source": [
        "**Conclusión**\n",
        "\n",
        "Según lo que se observa en la tasa de incumplimiento basada en el estado familiar, las personas divorciadas y viudas son las que tienen la tasa de incumplimiento mas baja. Posiblemente debido a los problemas que han tenido, han decidido pagar mas rápido sus deudas. A diferencia de las personas que estan bajo unión civíl y no están casadas, quiénes al parecer, al no tener una relación de pareja formal tienden a incumplir con sus deudas."
      ]
    },
    {
      "cell_type": "markdown",
      "metadata": {
        "id": "E4PY0UPu7A7N"
      },
      "source": [
        "**¿Existe una correlación entre el nivel de ingresos y el pago a tiempo?**"
      ]
    },
    {
      "cell_type": "code",
      "execution_count": null,
      "metadata": {
        "id": "n6kQumxF7A7N",
        "outputId": "6648698e-0938-4cd9-ba4f-d3b1d626ac58"
      },
      "outputs": [
        {
          "name": "stdout",
          "output_type": "stream",
          "text": [
            "Total de valores para cada nivel de ingresos\n",
            "income_group\n",
            "high income    18152\n",
            "low income      3301\n",
            "Name: debt, dtype: int64\n",
            "\n",
            "Cantidad de personas que presentan deuda en función del nivel de ingresos\n",
            "income_group\n",
            "high income    1486\n",
            "low income      255\n",
            "Name: debt, dtype: int64\n",
            "\n",
            "Cantidad de personas que no presentan deuda en función del nivel de ingresos\n",
            "income_group\n",
            "high income    16666\n",
            "low income      3046\n",
            "Name: debt, dtype: int64\n",
            "\n",
            "total_income  debt\n",
            "21836.583     0       1341\n",
            "28054.531     0        508\n",
            "25618.464     0         67\n",
            "18741.976     0         19\n",
            "42413.096     0          2\n",
            "                      ... \n",
            "18589.609     0          1\n",
            "18591.443     0          1\n",
            "18593.082     0          1\n",
            "18595.215     0          1\n",
            "362496.645    0          1\n",
            "Length: 17778, dtype: int64\n"
          ]
        }
      ],
      "source": [
        "# Comprueba los datos del nivel de ingresos y los pagos a tiempo\n",
        "\n",
        "print('Total de valores para cada nivel de ingresos')\n",
        "income_total = credit.groupby('income_group')['debt'].count()\n",
        "print(income_total)\n",
        "print()\n",
        "print('Cantidad de personas que presentan deuda en función del nivel de ingresos')\n",
        "income_1 = credit.groupby('income_group')['debt'].sum()\n",
        "print(income_1)\n",
        "print()\n",
        "print('Cantidad de personas que no presentan deuda en función del nivel de ingresos')\n",
        "income_0 = income_total - income_1\n",
        "print(income_0)\n",
        "print()\n",
        "income0 = data_income[data_income['debt'] == 0].value_counts()\n",
        "print(income0)\n"
      ]
    },
    {
      "cell_type": "code",
      "execution_count": null,
      "metadata": {
        "id": "RCLq-fwL7A7N",
        "outputId": "94fae4e6-69cc-4a3c-f3fa-a2d73c43579a"
      },
      "outputs": [
        {
          "name": "stdout",
          "output_type": "stream",
          "text": [
            "income_group\n",
            "high income    0.089164\n",
            "low income     0.083716\n",
            "Name: debt, dtype: float64\n"
          ]
        }
      ],
      "source": [
        "# Calcular la tasa de incumplimiento basada en el nivel de ingresos\n",
        "\n",
        "print(income_1 / income_0)"
      ]
    },
    {
      "cell_type": "markdown",
      "metadata": {
        "id": "2w51WAkx7A7N"
      },
      "source": [
        "**Conclusión**\n",
        "\n",
        "Como se observa en la tasa de incumplimiento según el nivel de ingresos, no existe relación alguna entre las personas que tienen ingresos mas altos, que las que no lo tienen. Ambos tienden a incumplir con sus deudas de la misma forma."
      ]
    },
    {
      "cell_type": "markdown",
      "metadata": {
        "id": "I1LWI8e57A7N"
      },
      "source": [
        "**¿Cómo afecta el propósito del crédito a la tasa de incumplimiento?**"
      ]
    },
    {
      "cell_type": "code",
      "execution_count": null,
      "metadata": {
        "id": "3TZPrb547A7N",
        "outputId": "9ec60fc5-3a9f-42c3-a872-3af8a67ade20"
      },
      "outputs": [
        {
          "name": "stdout",
          "output_type": "stream",
          "text": [
            "Total de valores para cada propósito\n",
            "purpose\n",
            "get a car        4306\n",
            "get educated     4013\n",
            "get property    10811\n",
            "get wedding      2323\n",
            "Name: debt, dtype: int64\n",
            "\n",
            "Cantidad de personas que presentan deuda en función del propósito\n",
            "purpose\n",
            "get a car       403\n",
            "get educated    370\n",
            "get property    782\n",
            "get wedding     186\n",
            "Name: debt, dtype: int64\n",
            "\n",
            "Cantidad de personas que no presentan deuda en función del propósito\n",
            "purpose\n",
            "get a car        3903\n",
            "get educated     3643\n",
            "get property    10029\n",
            "get wedding      2137\n",
            "Name: debt, dtype: int64\n"
          ]
        }
      ],
      "source": [
        "# Consulta los porcentajes de tasa de incumplimiento para cada propósito del crédito y analízalos\n",
        "\n",
        "print('Total de valores para cada propósito')\n",
        "purpose_total = credit.groupby('purpose')['debt'].count()\n",
        "print(purpose_total)\n",
        "print()\n",
        "print('Cantidad de personas que presentan deuda en función del propósito')\n",
        "purpose_1 = credit.groupby('purpose')['debt'].sum()\n",
        "print(purpose_1)\n",
        "print()\n",
        "print('Cantidad de personas que no presentan deuda en función del propósito')\n",
        "purpose_0 = purpose_total - purpose_1\n",
        "print(purpose_0)\n"
      ]
    },
    {
      "cell_type": "code",
      "execution_count": null,
      "metadata": {
        "id": "Z04v32HN7A7N",
        "outputId": "0bb48e9b-2e7f-49af-d335-091dd72fcaa2"
      },
      "outputs": [
        {
          "name": "stdout",
          "output_type": "stream",
          "text": [
            "purpose\n",
            "get a car       0.103254\n",
            "get educated    0.101565\n",
            "get property    0.077974\n",
            "get wedding     0.087038\n",
            "Name: debt, dtype: float64\n"
          ]
        }
      ],
      "source": [
        "# Calcular la tasa de incumplimiento basada en el propósito\n",
        "print(purpose_1 / purpose_0)"
      ]
    },
    {
      "cell_type": "markdown",
      "metadata": {
        "id": "a6qKo_H47A7N"
      },
      "source": [
        "**Conclusión**\n",
        "\n",
        "De acuerdo a la tasa de incumplimiento en función del propósito se observa que las personas que quieren comprarse un auto y educarse, son las personas quienes incumplen en mayor medida con el cumplimiento de la deuda. Esto puede deberse a que al comprase un auto solo lo ocupan como medio de transporte y no obtienen un retorno de la inversión, lo mismo pasa al educarse, este propósito no les garantiza un puesto de trabajo o ascenso en su trabajo, por tal razón no tienen un retorno de lo invertido. A diferencia de tener una propiedad, la cual pueden ponerla a trabajar para retornar lo invertido y poder pagar su deuda."
      ]
    },
    {
      "cell_type": "markdown",
      "metadata": {
        "id": "hwD81PgX7A7N"
      },
      "source": [
        "# Conclusión general\n",
        "\n",
        "1. Se identificaron y completaron los datos\n",
        "2. La columna days employed y total income presentaron un 10% de datos ausentes que se revisaron y a lo largo del proyecto se fueron llenando estos datos.\n",
        "3. Las columan \"days_employed\" presentó datos negativos y muy altos, los cuales se cambiaron a positivos y se estableció un límite para estos datos para reemplazarlos.\n",
        "4. Se siguieron revisando las demás columnas y no se encontró mayor novedad, se tuvieron que cambiar a minúsculas los datos, en la columna children se tenian datos con -1 y 20, que fueron cambiados a 0, también en la columna dob years se tenian valores iguales a 0 que fueron cambiados por la mediana.\n",
        "5. La cantidad de número duplicados no fue muy alta, así que se eliminaron\n",
        "6. La columna total income fue revisada y los valores ausentes se cambiaron por la media en función de la educación.\n",
        "7. Los valores ausentes de la columna days employed fueron cambiados por a media en función del tipo de ingreso de las personas.\n",
        "8. Los datos fueron clasificados en función de las hipótesis.\n",
        "9. Al tener una mayor cantidad de hijos es mas posible no poder pagar el préstamo.\n",
        "10. El hecho de no tener una relación formal como tener unión civil o no estar casados hace que las personas no trabajen en equipo con su pareja para poder pagar el préstamo.\n",
        "11. El nivel de ingresos no se relaciona en el hecho de pagar el préstamos.\n",
        "12. El propósito del préstamo de comprarse un carro y educarse aumenta el riesgo al momento de pagar un préstamo.\n",
        "\n"
      ]
    }
  ],
  "metadata": {
    "ExecuteTimeLog": [
      {
        "duration": 2741,
        "start_time": "2021-10-21T01:08:49.480Z"
      },
      {
        "duration": 52,
        "start_time": "2021-10-21T01:08:53.315Z"
      },
      {
        "duration": 49,
        "start_time": "2021-10-21T01:08:57.432Z"
      },
      {
        "duration": 70,
        "start_time": "2021-10-21T01:09:07.706Z"
      }
    ],
    "kernelspec": {
      "display_name": "Python 3 (ipykernel)",
      "language": "python",
      "name": "python3"
    },
    "language_info": {
      "codemirror_mode": {
        "name": "ipython",
        "version": 3
      },
      "file_extension": ".py",
      "mimetype": "text/x-python",
      "name": "python",
      "nbconvert_exporter": "python",
      "pygments_lexer": "ipython3",
      "version": "3.9.5"
    },
    "toc": {
      "base_numbering": 1,
      "nav_menu": {},
      "number_sections": true,
      "sideBar": true,
      "skip_h1_title": true,
      "title_cell": "Table of Contents",
      "title_sidebar": "Contents",
      "toc_cell": false,
      "toc_position": {},
      "toc_section_display": true,
      "toc_window_display": false
    },
    "colab": {
      "provenance": []
    }
  },
  "nbformat": 4,
  "nbformat_minor": 0
}